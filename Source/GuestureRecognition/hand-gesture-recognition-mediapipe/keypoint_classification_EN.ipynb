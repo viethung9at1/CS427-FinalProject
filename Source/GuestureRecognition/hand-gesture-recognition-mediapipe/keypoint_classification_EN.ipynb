{
  "cells": [
    {
      "cell_type": "code",
      "execution_count": null,
      "metadata": {
        "id": "igMyGnjE9hEp"
      },
      "outputs": [],
      "source": [
        "import csv\n",
        "\n",
        "import numpy as np\n",
        "import tensorflow as tf\n",
        "from sklearn.model_selection import train_test_split\n",
        "\n",
        "RANDOM_SEED = 42"
      ]
    },
    {
      "cell_type": "markdown",
      "metadata": {
        "id": "t2HDvhIu9hEr"
      },
      "source": [
        "# Specify each path"
      ]
    },
    {
      "cell_type": "code",
      "execution_count": null,
      "metadata": {
        "id": "9NvZP2Zn9hEy"
      },
      "outputs": [],
      "source": [
        "dataset = 'model/keypoint_classifier/keypoint.csv'\n",
        "model_save_path = 'model/keypoint_classifier/keypoint_classifier.hdf5'\n",
        "tflite_save_path = 'model/keypoint_classifier/keypoint_classifier.tflite'"
      ]
    },
    {
      "cell_type": "markdown",
      "metadata": {
        "id": "s5oMH7x19hEz"
      },
      "source": [
        "# Set number of classes"
      ]
    },
    {
      "cell_type": "code",
      "execution_count": null,
      "metadata": {
        "id": "du4kodXL9hEz"
      },
      "outputs": [],
      "source": [
        "NUM_CLASSES = 5"
      ]
    },
    {
      "cell_type": "markdown",
      "metadata": {
        "id": "XjnL0uso9hEz"
      },
      "source": [
        "# Dataset reading"
      ]
    },
    {
      "cell_type": "code",
      "execution_count": null,
      "metadata": {
        "id": "QT5ZqtEz9hE0"
      },
      "outputs": [],
      "source": [
        "X_dataset = np.loadtxt(dataset, delimiter=',', dtype='float32', usecols=list(range(1, (21 * 2) + 1)))"
      ]
    },
    {
      "cell_type": "code",
      "execution_count": null,
      "metadata": {
        "id": "QmoKFsp49hE0"
      },
      "outputs": [],
      "source": [
        "y_dataset = np.loadtxt(dataset, delimiter=',', dtype='int32', usecols=(0))"
      ]
    },
    {
      "cell_type": "code",
      "execution_count": null,
      "metadata": {
        "id": "xQU7JTZ_9hE0"
      },
      "outputs": [],
      "source": [
        "X_train, X_test, y_train, y_test = train_test_split(X_dataset, y_dataset, train_size=0.75, random_state=RANDOM_SEED)"
      ]
    },
    {
      "cell_type": "markdown",
      "metadata": {
        "id": "mxK_lETT9hE0"
      },
      "source": [
        "# Model building"
      ]
    },
    {
      "cell_type": "code",
      "execution_count": 7,
      "metadata": {
        "id": "vHBmUf1t9hE1"
      },
      "outputs": [
        {
          "name": "stderr",
          "output_type": "stream",
          "text": [
            "2023-09-17 10:55:05.366346: I tensorflow/compiler/xla/stream_executor/cuda/cuda_gpu_executor.cc:981] could not open file to read NUMA node: /sys/bus/pci/devices/0000:01:00.0/numa_node\n",
            "Your kernel may have been built without NUMA support.\n",
            "2023-09-17 10:55:05.366529: W tensorflow/core/common_runtime/gpu/gpu_device.cc:1960] Cannot dlopen some GPU libraries. Please make sure the missing libraries mentioned above are installed properly if you would like to use GPU. Follow the guide at https://www.tensorflow.org/install/gpu for how to download and setup the required libraries for your platform.\n",
            "Skipping registering GPU devices...\n"
          ]
        }
      ],
      "source": [
        "model = tf.keras.models.Sequential([\n",
        "    tf.keras.layers.Input((21 * 2, )),\n",
        "    tf.keras.layers.Dropout(0.2),\n",
        "    tf.keras.layers.Dense(20, activation='relu'),\n",
        "    tf.keras.layers.Dropout(0.4),\n",
        "    tf.keras.layers.Dense(10, activation='relu'),\n",
        "    tf.keras.layers.Dense(NUM_CLASSES, activation='softmax')\n",
        "])"
      ]
    },
    {
      "cell_type": "code",
      "execution_count": 8,
      "metadata": {
        "colab": {
          "base_uri": "https://localhost:8080/"
        },
        "id": "ypqky9tc9hE1",
        "outputId": "5db082bb-30e3-4110-bf63-a1ee777ecd46"
      },
      "outputs": [
        {
          "name": "stdout",
          "output_type": "stream",
          "text": [
            "Model: \"sequential\"\n",
            "_________________________________________________________________\n",
            " Layer (type)                Output Shape              Param #   \n",
            "=================================================================\n",
            " dropout (Dropout)           (None, 42)                0         \n",
            "                                                                 \n",
            " dense (Dense)               (None, 20)                860       \n",
            "                                                                 \n",
            " dropout_1 (Dropout)         (None, 20)                0         \n",
            "                                                                 \n",
            " dense_1 (Dense)             (None, 10)                210       \n",
            "                                                                 \n",
            " dense_2 (Dense)             (None, 5)                 55        \n",
            "                                                                 \n",
            "=================================================================\n",
            "Total params: 1125 (4.39 KB)\n",
            "Trainable params: 1125 (4.39 KB)\n",
            "Non-trainable params: 0 (0.00 Byte)\n",
            "_________________________________________________________________\n"
          ]
        }
      ],
      "source": [
        "model.summary()  # tf.keras.utils.plot_model(model, show_shapes=True)"
      ]
    },
    {
      "cell_type": "code",
      "execution_count": 9,
      "metadata": {
        "id": "MbMjOflQ9hE1"
      },
      "outputs": [],
      "source": [
        "# Model checkpoint callback\n",
        "cp_callback = tf.keras.callbacks.ModelCheckpoint(\n",
        "    model_save_path, verbose=1, save_weights_only=False)\n",
        "# Callback for early stopping\n",
        "es_callback = tf.keras.callbacks.EarlyStopping(patience=20, verbose=1)"
      ]
    },
    {
      "cell_type": "code",
      "execution_count": 10,
      "metadata": {
        "id": "c3Dac0M_9hE2"
      },
      "outputs": [],
      "source": [
        "# Model compilation\n",
        "model.compile(\n",
        "    optimizer='adam',\n",
        "    loss='sparse_categorical_crossentropy',\n",
        "    metrics=['accuracy']\n",
        ")"
      ]
    },
    {
      "cell_type": "markdown",
      "metadata": {
        "id": "7XI0j1Iu9hE2"
      },
      "source": [
        "# Model training"
      ]
    },
    {
      "cell_type": "code",
      "execution_count": 11,
      "metadata": {
        "colab": {
          "base_uri": "https://localhost:8080/"
        },
        "id": "WirBl-JE9hE3",
        "outputId": "71b30ca2-8294-4d9d-8aa2-800d90d399de",
        "scrolled": true
      },
      "outputs": [
        {
          "name": "stdout",
          "output_type": "stream",
          "text": [
            "Epoch 1/1000\n",
            " 1/25 [>.............................] - ETA: 10s - loss: 1.6442 - accuracy: 0.2578\n",
            "Epoch 1: saving model to model/keypoint_classifier/keypoint_classifier.hdf5\n",
            "25/25 [==============================] - 1s 7ms/step - loss: 1.5174 - accuracy: 0.3345 - val_loss: 1.2701 - val_accuracy: 0.5270\n",
            "Epoch 2/1000\n",
            " 1/25 [>.............................] - ETA: 0s - loss: 1.3847 - accuracy: 0.4219\n",
            "Epoch 2: saving model to model/keypoint_classifier/keypoint_classifier.hdf5\n",
            "25/25 [==============================] - 0s 2ms/step - loss: 1.2806 - accuracy: 0.4714 - val_loss: 1.0833 - val_accuracy: 0.6753\n",
            "Epoch 3/1000\n",
            " 1/25 [>.............................] - ETA: 0s - loss: 1.1746 - accuracy: 0.5391\n",
            "Epoch 3: saving model to model/keypoint_classifier/keypoint_classifier.hdf5\n",
            "25/25 [==============================] - 0s 2ms/step - loss: 1.1338 - accuracy: 0.5196 - val_loss: 0.9463 - val_accuracy: 0.6291\n",
            "Epoch 4/1000\n",
            " 1/25 [>.............................] - ETA: 0s - loss: 1.0795 - accuracy: 0.5469\n",
            "Epoch 4: saving model to model/keypoint_classifier/keypoint_classifier.hdf5\n",
            "25/25 [==============================] - 0s 2ms/step - loss: 1.0133 - accuracy: 0.5672 - val_loss: 0.8375 - val_accuracy: 0.6879\n",
            "Epoch 5/1000\n",
            " 1/25 [>.............................] - ETA: 0s - loss: 0.9506 - accuracy: 0.6406"
          ]
        },
        {
          "name": "stderr",
          "output_type": "stream",
          "text": [
            "/mnt/f/Coding/TrainHandRecognition/py311/lib/python3.11/site-packages/keras/src/engine/training.py:3000: UserWarning: You are saving your model as an HDF5 file via `model.save()`. This file format is considered legacy. We recommend using instead the native Keras format, e.g. `model.save('my_model.keras')`.\n",
            "  saving_api.save_model(\n"
          ]
        },
        {
          "name": "stdout",
          "output_type": "stream",
          "text": [
            "\n",
            "Epoch 5: saving model to model/keypoint_classifier/keypoint_classifier.hdf5\n",
            "25/25 [==============================] - 0s 2ms/step - loss: 0.9315 - accuracy: 0.5858 - val_loss: 0.7419 - val_accuracy: 0.7322\n",
            "Epoch 6/1000\n",
            " 1/25 [>.............................] - ETA: 0s - loss: 0.9255 - accuracy: 0.6562\n",
            "Epoch 6: saving model to model/keypoint_classifier/keypoint_classifier.hdf5\n",
            "25/25 [==============================] - 0s 2ms/step - loss: 0.8526 - accuracy: 0.6240 - val_loss: 0.6653 - val_accuracy: 0.7322\n",
            "Epoch 7/1000\n",
            " 1/25 [>.............................] - ETA: 0s - loss: 0.8308 - accuracy: 0.6094\n",
            "Epoch 7: saving model to model/keypoint_classifier/keypoint_classifier.hdf5\n",
            "25/25 [==============================] - 0s 2ms/step - loss: 0.8022 - accuracy: 0.6372 - val_loss: 0.6080 - val_accuracy: 0.7418\n",
            "Epoch 8/1000\n",
            " 1/25 [>.............................] - ETA: 0s - loss: 0.7226 - accuracy: 0.6641\n",
            "Epoch 8: saving model to model/keypoint_classifier/keypoint_classifier.hdf5\n",
            "25/25 [==============================] - 0s 2ms/step - loss: 0.7549 - accuracy: 0.6510 - val_loss: 0.5597 - val_accuracy: 0.8170\n",
            "Epoch 9/1000\n",
            " 1/25 [>.............................] - ETA: 0s - loss: 0.6305 - accuracy: 0.7344\n",
            "Epoch 9: saving model to model/keypoint_classifier/keypoint_classifier.hdf5\n",
            "25/25 [==============================] - 0s 2ms/step - loss: 0.7010 - accuracy: 0.6719 - val_loss: 0.5208 - val_accuracy: 0.8256\n",
            "Epoch 10/1000\n",
            " 1/25 [>.............................] - ETA: 0s - loss: 0.7356 - accuracy: 0.6484\n",
            "Epoch 10: saving model to model/keypoint_classifier/keypoint_classifier.hdf5\n",
            "25/25 [==============================] - 0s 2ms/step - loss: 0.6818 - accuracy: 0.6828 - val_loss: 0.4922 - val_accuracy: 0.8555\n",
            "Epoch 11/1000\n",
            " 1/25 [>.............................] - ETA: 0s - loss: 0.6470 - accuracy: 0.6953\n",
            "Epoch 11: saving model to model/keypoint_classifier/keypoint_classifier.hdf5\n",
            "25/25 [==============================] - 0s 2ms/step - loss: 0.6495 - accuracy: 0.6973 - val_loss: 0.4626 - val_accuracy: 0.8584\n",
            "Epoch 12/1000\n",
            " 1/25 [>.............................] - ETA: 0s - loss: 0.6533 - accuracy: 0.6719\n",
            "Epoch 12: saving model to model/keypoint_classifier/keypoint_classifier.hdf5\n",
            "25/25 [==============================] - 0s 2ms/step - loss: 0.6247 - accuracy: 0.7102 - val_loss: 0.4302 - val_accuracy: 0.8584\n",
            "Epoch 13/1000\n",
            " 1/25 [>.............................] - ETA: 0s - loss: 0.6701 - accuracy: 0.6328\n",
            "Epoch 13: saving model to model/keypoint_classifier/keypoint_classifier.hdf5\n",
            "25/25 [==============================] - 0s 2ms/step - loss: 0.5946 - accuracy: 0.7208 - val_loss: 0.4046 - val_accuracy: 0.8622\n",
            "Epoch 14/1000\n",
            " 1/25 [>.............................] - ETA: 0s - loss: 0.5623 - accuracy: 0.7656\n",
            "Epoch 14: saving model to model/keypoint_classifier/keypoint_classifier.hdf5\n",
            "25/25 [==============================] - 0s 2ms/step - loss: 0.5712 - accuracy: 0.7371 - val_loss: 0.3837 - val_accuracy: 0.8661\n",
            "Epoch 15/1000\n",
            " 1/25 [>.............................] - ETA: 0s - loss: 0.5056 - accuracy: 0.7891\n",
            "Epoch 15: saving model to model/keypoint_classifier/keypoint_classifier.hdf5\n",
            "25/25 [==============================] - 0s 2ms/step - loss: 0.5568 - accuracy: 0.7423 - val_loss: 0.3553 - val_accuracy: 0.8699\n",
            "Epoch 16/1000\n",
            " 1/25 [>.............................] - ETA: 0s - loss: 0.6069 - accuracy: 0.7031\n",
            "Epoch 16: saving model to model/keypoint_classifier/keypoint_classifier.hdf5\n",
            "25/25 [==============================] - 0s 2ms/step - loss: 0.5347 - accuracy: 0.7664 - val_loss: 0.3353 - val_accuracy: 0.8796\n",
            "Epoch 17/1000\n",
            " 1/25 [>.............................] - ETA: 0s - loss: 0.5714 - accuracy: 0.6953\n",
            "Epoch 17: saving model to model/keypoint_classifier/keypoint_classifier.hdf5\n",
            "25/25 [==============================] - 0s 2ms/step - loss: 0.5271 - accuracy: 0.7571 - val_loss: 0.3173 - val_accuracy: 0.8844\n",
            "Epoch 18/1000\n",
            " 1/25 [>.............................] - ETA: 0s - loss: 0.4109 - accuracy: 0.8828\n",
            "Epoch 18: saving model to model/keypoint_classifier/keypoint_classifier.hdf5\n",
            "25/25 [==============================] - 0s 2ms/step - loss: 0.5033 - accuracy: 0.7841 - val_loss: 0.2990 - val_accuracy: 0.8969\n",
            "Epoch 19/1000\n",
            " 1/25 [>.............................] - ETA: 0s - loss: 0.5351 - accuracy: 0.7422\n",
            "Epoch 19: saving model to model/keypoint_classifier/keypoint_classifier.hdf5\n",
            "25/25 [==============================] - 0s 2ms/step - loss: 0.4935 - accuracy: 0.7850 - val_loss: 0.2806 - val_accuracy: 0.9114\n",
            "Epoch 20/1000\n",
            " 1/25 [>.............................] - ETA: 0s - loss: 0.4718 - accuracy: 0.7969\n",
            "Epoch 20: saving model to model/keypoint_classifier/keypoint_classifier.hdf5\n",
            "25/25 [==============================] - 0s 2ms/step - loss: 0.4924 - accuracy: 0.7915 - val_loss: 0.2680 - val_accuracy: 0.9056\n",
            "Epoch 21/1000\n",
            " 1/25 [>.............................] - ETA: 0s - loss: 0.4086 - accuracy: 0.8516\n",
            "Epoch 21: saving model to model/keypoint_classifier/keypoint_classifier.hdf5\n",
            "25/25 [==============================] - 0s 2ms/step - loss: 0.4539 - accuracy: 0.8133 - val_loss: 0.2550 - val_accuracy: 0.9171\n",
            "Epoch 22/1000\n",
            " 1/25 [>.............................] - ETA: 0s - loss: 0.4213 - accuracy: 0.8516\n",
            "Epoch 22: saving model to model/keypoint_classifier/keypoint_classifier.hdf5\n",
            "25/25 [==============================] - 0s 2ms/step - loss: 0.4536 - accuracy: 0.8236 - val_loss: 0.2392 - val_accuracy: 0.9412\n",
            "Epoch 23/1000\n",
            " 1/25 [>.............................] - ETA: 0s - loss: 0.4088 - accuracy: 0.8438\n",
            "Epoch 23: saving model to model/keypoint_classifier/keypoint_classifier.hdf5\n",
            "25/25 [==============================] - 0s 2ms/step - loss: 0.4295 - accuracy: 0.8156 - val_loss: 0.2327 - val_accuracy: 0.9335\n",
            "Epoch 24/1000\n",
            " 1/25 [>.............................] - ETA: 0s - loss: 0.5183 - accuracy: 0.7422\n",
            "Epoch 24: saving model to model/keypoint_classifier/keypoint_classifier.hdf5\n",
            "25/25 [==============================] - 0s 2ms/step - loss: 0.4197 - accuracy: 0.8271 - val_loss: 0.2188 - val_accuracy: 0.9461\n",
            "Epoch 25/1000\n",
            " 1/25 [>.............................] - ETA: 0s - loss: 0.4336 - accuracy: 0.8047\n",
            "Epoch 25: saving model to model/keypoint_classifier/keypoint_classifier.hdf5\n",
            "25/25 [==============================] - 0s 2ms/step - loss: 0.4141 - accuracy: 0.8252 - val_loss: 0.2058 - val_accuracy: 0.9557\n",
            "Epoch 26/1000\n",
            " 1/25 [>.............................] - ETA: 0s - loss: 0.3625 - accuracy: 0.8516\n",
            "Epoch 26: saving model to model/keypoint_classifier/keypoint_classifier.hdf5\n",
            "25/25 [==============================] - 0s 2ms/step - loss: 0.4189 - accuracy: 0.8294 - val_loss: 0.1961 - val_accuracy: 0.9586\n",
            "Epoch 27/1000\n",
            " 1/25 [>.............................] - ETA: 0s - loss: 0.3872 - accuracy: 0.8672\n",
            "Epoch 27: saving model to model/keypoint_classifier/keypoint_classifier.hdf5\n",
            "25/25 [==============================] - 0s 2ms/step - loss: 0.4234 - accuracy: 0.8268 - val_loss: 0.1876 - val_accuracy: 0.9624\n",
            "Epoch 28/1000\n",
            " 1/25 [>.............................] - ETA: 0s - loss: 0.3904 - accuracy: 0.8203\n",
            "Epoch 28: saving model to model/keypoint_classifier/keypoint_classifier.hdf5\n",
            "25/25 [==============================] - 0s 2ms/step - loss: 0.4070 - accuracy: 0.8271 - val_loss: 0.1843 - val_accuracy: 0.9595\n",
            "Epoch 29/1000\n",
            " 1/25 [>.............................] - ETA: 0s - loss: 0.3190 - accuracy: 0.8672\n",
            "Epoch 29: saving model to model/keypoint_classifier/keypoint_classifier.hdf5\n",
            "25/25 [==============================] - 0s 2ms/step - loss: 0.3840 - accuracy: 0.8432 - val_loss: 0.1737 - val_accuracy: 0.9701\n",
            "Epoch 30/1000\n",
            " 1/25 [>.............................] - ETA: 0s - loss: 0.4187 - accuracy: 0.8125\n",
            "Epoch 30: saving model to model/keypoint_classifier/keypoint_classifier.hdf5\n",
            "25/25 [==============================] - 0s 2ms/step - loss: 0.3751 - accuracy: 0.8509 - val_loss: 0.1663 - val_accuracy: 0.9663\n",
            "Epoch 31/1000\n",
            " 1/25 [>.............................] - ETA: 0s - loss: 0.3860 - accuracy: 0.8438\n",
            "Epoch 31: saving model to model/keypoint_classifier/keypoint_classifier.hdf5\n",
            "25/25 [==============================] - 0s 2ms/step - loss: 0.3772 - accuracy: 0.8519 - val_loss: 0.1642 - val_accuracy: 0.9663\n",
            "Epoch 32/1000\n",
            " 1/25 [>.............................] - ETA: 0s - loss: 0.4582 - accuracy: 0.7969\n",
            "Epoch 32: saving model to model/keypoint_classifier/keypoint_classifier.hdf5\n",
            "25/25 [==============================] - 0s 2ms/step - loss: 0.3802 - accuracy: 0.8448 - val_loss: 0.1565 - val_accuracy: 0.9672\n",
            "Epoch 33/1000\n",
            " 1/25 [>.............................] - ETA: 0s - loss: 0.3911 - accuracy: 0.8438\n",
            "Epoch 33: saving model to model/keypoint_classifier/keypoint_classifier.hdf5\n",
            "25/25 [==============================] - 0s 2ms/step - loss: 0.3511 - accuracy: 0.8612 - val_loss: 0.1464 - val_accuracy: 0.9721\n",
            "Epoch 34/1000\n",
            " 1/25 [>.............................] - ETA: 0s - loss: 0.3766 - accuracy: 0.8672\n",
            "Epoch 34: saving model to model/keypoint_classifier/keypoint_classifier.hdf5\n",
            "25/25 [==============================] - 0s 3ms/step - loss: 0.3643 - accuracy: 0.8535 - val_loss: 0.1468 - val_accuracy: 0.9701\n",
            "Epoch 35/1000\n",
            " 1/25 [>.............................] - ETA: 0s - loss: 0.3478 - accuracy: 0.8672\n",
            "Epoch 35: saving model to model/keypoint_classifier/keypoint_classifier.hdf5\n",
            "25/25 [==============================] - 0s 2ms/step - loss: 0.3545 - accuracy: 0.8551 - val_loss: 0.1446 - val_accuracy: 0.9682\n",
            "Epoch 36/1000\n",
            " 1/25 [>.............................] - ETA: 0s - loss: 0.4039 - accuracy: 0.8203\n",
            "Epoch 36: saving model to model/keypoint_classifier/keypoint_classifier.hdf5\n",
            "25/25 [==============================] - 0s 3ms/step - loss: 0.3561 - accuracy: 0.8570 - val_loss: 0.1370 - val_accuracy: 0.9711\n",
            "Epoch 37/1000\n",
            " 1/25 [>.............................] - ETA: 0s - loss: 0.3133 - accuracy: 0.8828\n",
            "Epoch 37: saving model to model/keypoint_classifier/keypoint_classifier.hdf5\n",
            "25/25 [==============================] - 0s 2ms/step - loss: 0.3515 - accuracy: 0.8634 - val_loss: 0.1351 - val_accuracy: 0.9750\n",
            "Epoch 38/1000\n",
            " 1/25 [>.............................] - ETA: 0s - loss: 0.3792 - accuracy: 0.8672\n",
            "Epoch 38: saving model to model/keypoint_classifier/keypoint_classifier.hdf5\n",
            "25/25 [==============================] - 0s 2ms/step - loss: 0.3446 - accuracy: 0.8589 - val_loss: 0.1309 - val_accuracy: 0.9759\n",
            "Epoch 39/1000\n",
            " 1/25 [>.............................] - ETA: 0s - loss: 0.2846 - accuracy: 0.8906\n",
            "Epoch 39: saving model to model/keypoint_classifier/keypoint_classifier.hdf5\n",
            "25/25 [==============================] - 0s 2ms/step - loss: 0.3207 - accuracy: 0.8692 - val_loss: 0.1269 - val_accuracy: 0.9769\n",
            "Epoch 40/1000\n",
            " 1/25 [>.............................] - ETA: 0s - loss: 0.3017 - accuracy: 0.9219\n",
            "Epoch 40: saving model to model/keypoint_classifier/keypoint_classifier.hdf5\n",
            "25/25 [==============================] - 0s 2ms/step - loss: 0.3376 - accuracy: 0.8605 - val_loss: 0.1246 - val_accuracy: 0.9740\n",
            "Epoch 41/1000\n",
            " 1/25 [>.............................] - ETA: 0s - loss: 0.3177 - accuracy: 0.8594\n",
            "Epoch 41: saving model to model/keypoint_classifier/keypoint_classifier.hdf5\n",
            "25/25 [==============================] - 0s 2ms/step - loss: 0.3207 - accuracy: 0.8740 - val_loss: 0.1167 - val_accuracy: 0.9913\n",
            "Epoch 42/1000\n",
            " 1/25 [>.............................] - ETA: 0s - loss: 0.4021 - accuracy: 0.8672\n",
            "Epoch 42: saving model to model/keypoint_classifier/keypoint_classifier.hdf5\n",
            "25/25 [==============================] - 0s 2ms/step - loss: 0.3299 - accuracy: 0.8641 - val_loss: 0.1197 - val_accuracy: 0.9778\n",
            "Epoch 43/1000\n",
            " 1/25 [>.............................] - ETA: 0s - loss: 0.2480 - accuracy: 0.9062\n",
            "Epoch 43: saving model to model/keypoint_classifier/keypoint_classifier.hdf5\n",
            "25/25 [==============================] - 0s 2ms/step - loss: 0.3243 - accuracy: 0.8734 - val_loss: 0.1175 - val_accuracy: 0.9769\n",
            "Epoch 44/1000\n",
            " 1/25 [>.............................] - ETA: 0s - loss: 0.3373 - accuracy: 0.8672\n",
            "Epoch 44: saving model to model/keypoint_classifier/keypoint_classifier.hdf5\n",
            "25/25 [==============================] - 0s 2ms/step - loss: 0.3160 - accuracy: 0.8760 - val_loss: 0.1128 - val_accuracy: 0.9942\n",
            "Epoch 45/1000\n",
            " 1/25 [>.............................] - ETA: 0s - loss: 0.3222 - accuracy: 0.8203\n",
            "Epoch 45: saving model to model/keypoint_classifier/keypoint_classifier.hdf5\n",
            "25/25 [==============================] - 0s 2ms/step - loss: 0.3259 - accuracy: 0.8625 - val_loss: 0.1057 - val_accuracy: 0.9923\n",
            "Epoch 46/1000\n",
            " 1/25 [>.............................] - ETA: 0s - loss: 0.3264 - accuracy: 0.8906\n",
            "Epoch 46: saving model to model/keypoint_classifier/keypoint_classifier.hdf5\n",
            "25/25 [==============================] - 0s 2ms/step - loss: 0.3137 - accuracy: 0.8744 - val_loss: 0.1183 - val_accuracy: 0.9750\n",
            "Epoch 47/1000\n",
            " 1/25 [>.............................] - ETA: 0s - loss: 0.3192 - accuracy: 0.9141\n",
            "Epoch 47: saving model to model/keypoint_classifier/keypoint_classifier.hdf5\n",
            "25/25 [==============================] - 0s 2ms/step - loss: 0.3149 - accuracy: 0.8824 - val_loss: 0.1003 - val_accuracy: 0.9933\n",
            "Epoch 48/1000\n",
            " 1/25 [>.............................] - ETA: 0s - loss: 0.2882 - accuracy: 0.8750\n",
            "Epoch 48: saving model to model/keypoint_classifier/keypoint_classifier.hdf5\n",
            "25/25 [==============================] - 0s 2ms/step - loss: 0.3006 - accuracy: 0.8789 - val_loss: 0.1036 - val_accuracy: 0.9778\n",
            "Epoch 49/1000\n",
            " 1/25 [>.............................] - ETA: 0s - loss: 0.3728 - accuracy: 0.8672\n",
            "Epoch 49: saving model to model/keypoint_classifier/keypoint_classifier.hdf5\n",
            "25/25 [==============================] - 0s 2ms/step - loss: 0.2966 - accuracy: 0.8869 - val_loss: 0.0959 - val_accuracy: 0.9961\n",
            "Epoch 50/1000\n",
            " 1/25 [>.............................] - ETA: 0s - loss: 0.2724 - accuracy: 0.8906\n",
            "Epoch 50: saving model to model/keypoint_classifier/keypoint_classifier.hdf5\n",
            "25/25 [==============================] - 0s 2ms/step - loss: 0.2970 - accuracy: 0.8782 - val_loss: 0.0957 - val_accuracy: 0.9942\n",
            "Epoch 51/1000\n",
            " 1/25 [>.............................] - ETA: 0s - loss: 0.3706 - accuracy: 0.8516\n",
            "Epoch 51: saving model to model/keypoint_classifier/keypoint_classifier.hdf5\n",
            "25/25 [==============================] - 0s 2ms/step - loss: 0.3030 - accuracy: 0.8792 - val_loss: 0.0926 - val_accuracy: 0.9933\n",
            "Epoch 52/1000\n",
            " 1/25 [>.............................] - ETA: 0s - loss: 0.2446 - accuracy: 0.8984\n",
            "Epoch 52: saving model to model/keypoint_classifier/keypoint_classifier.hdf5\n",
            "25/25 [==============================] - 0s 2ms/step - loss: 0.2978 - accuracy: 0.8846 - val_loss: 0.0888 - val_accuracy: 0.9933\n",
            "Epoch 53/1000\n",
            " 1/25 [>.............................] - ETA: 0s - loss: 0.2477 - accuracy: 0.8906\n",
            "Epoch 53: saving model to model/keypoint_classifier/keypoint_classifier.hdf5\n",
            "25/25 [==============================] - 0s 2ms/step - loss: 0.2893 - accuracy: 0.8782 - val_loss: 0.0884 - val_accuracy: 0.9961\n",
            "Epoch 54/1000\n",
            " 1/25 [>.............................] - ETA: 0s - loss: 0.2427 - accuracy: 0.9375\n",
            "Epoch 54: saving model to model/keypoint_classifier/keypoint_classifier.hdf5\n",
            "25/25 [==============================] - 0s 2ms/step - loss: 0.2904 - accuracy: 0.8843 - val_loss: 0.0865 - val_accuracy: 0.9971\n",
            "Epoch 55/1000\n",
            " 1/25 [>.............................] - ETA: 0s - loss: 0.4238 - accuracy: 0.8125\n",
            "Epoch 55: saving model to model/keypoint_classifier/keypoint_classifier.hdf5\n",
            "25/25 [==============================] - 0s 2ms/step - loss: 0.3008 - accuracy: 0.8830 - val_loss: 0.0871 - val_accuracy: 0.9961\n",
            "Epoch 56/1000\n",
            " 1/25 [>.............................] - ETA: 0s - loss: 0.3470 - accuracy: 0.8672\n",
            "Epoch 56: saving model to model/keypoint_classifier/keypoint_classifier.hdf5\n",
            "25/25 [==============================] - 0s 2ms/step - loss: 0.2769 - accuracy: 0.8885 - val_loss: 0.0836 - val_accuracy: 0.9961\n",
            "Epoch 57/1000\n",
            " 1/25 [>.............................] - ETA: 0s - loss: 0.2601 - accuracy: 0.8750\n",
            "Epoch 57: saving model to model/keypoint_classifier/keypoint_classifier.hdf5\n",
            "25/25 [==============================] - 0s 2ms/step - loss: 0.2873 - accuracy: 0.8830 - val_loss: 0.0819 - val_accuracy: 0.9971\n",
            "Epoch 58/1000\n",
            " 1/25 [>.............................] - ETA: 0s - loss: 0.2545 - accuracy: 0.8984\n",
            "Epoch 58: saving model to model/keypoint_classifier/keypoint_classifier.hdf5\n",
            "25/25 [==============================] - 0s 2ms/step - loss: 0.2661 - accuracy: 0.8994 - val_loss: 0.0790 - val_accuracy: 0.9971\n",
            "Epoch 59/1000\n",
            " 1/25 [>.............................] - ETA: 0s - loss: 0.2909 - accuracy: 0.8828\n",
            "Epoch 59: saving model to model/keypoint_classifier/keypoint_classifier.hdf5\n",
            "25/25 [==============================] - 0s 2ms/step - loss: 0.3068 - accuracy: 0.8837 - val_loss: 0.0843 - val_accuracy: 0.9913\n",
            "Epoch 60/1000\n",
            " 1/25 [>.............................] - ETA: 0s - loss: 0.3357 - accuracy: 0.8828\n",
            "Epoch 60: saving model to model/keypoint_classifier/keypoint_classifier.hdf5\n",
            "25/25 [==============================] - 0s 2ms/step - loss: 0.2870 - accuracy: 0.8846 - val_loss: 0.0803 - val_accuracy: 0.9961\n",
            "Epoch 61/1000\n",
            " 1/25 [>.............................] - ETA: 0s - loss: 0.3639 - accuracy: 0.8438\n",
            "Epoch 61: saving model to model/keypoint_classifier/keypoint_classifier.hdf5\n",
            "25/25 [==============================] - 0s 2ms/step - loss: 0.2759 - accuracy: 0.8952 - val_loss: 0.0797 - val_accuracy: 0.9952\n",
            "Epoch 62/1000\n",
            " 1/25 [>.............................] - ETA: 0s - loss: 0.2353 - accuracy: 0.8906\n",
            "Epoch 62: saving model to model/keypoint_classifier/keypoint_classifier.hdf5\n",
            "25/25 [==============================] - 0s 2ms/step - loss: 0.2893 - accuracy: 0.8814 - val_loss: 0.0793 - val_accuracy: 0.9971\n",
            "Epoch 63/1000\n",
            " 1/25 [>.............................] - ETA: 0s - loss: 0.2917 - accuracy: 0.8750\n",
            "Epoch 63: saving model to model/keypoint_classifier/keypoint_classifier.hdf5\n",
            "25/25 [==============================] - 0s 2ms/step - loss: 0.2829 - accuracy: 0.8914 - val_loss: 0.0763 - val_accuracy: 0.9971\n",
            "Epoch 64/1000\n",
            " 1/25 [>.............................] - ETA: 0s - loss: 0.2831 - accuracy: 0.8984\n",
            "Epoch 64: saving model to model/keypoint_classifier/keypoint_classifier.hdf5\n",
            "25/25 [==============================] - 0s 2ms/step - loss: 0.2737 - accuracy: 0.8907 - val_loss: 0.0747 - val_accuracy: 0.9971\n",
            "Epoch 65/1000\n",
            " 1/25 [>.............................] - ETA: 0s - loss: 0.2646 - accuracy: 0.9062\n",
            "Epoch 65: saving model to model/keypoint_classifier/keypoint_classifier.hdf5\n",
            "25/25 [==============================] - 0s 2ms/step - loss: 0.2762 - accuracy: 0.8930 - val_loss: 0.0716 - val_accuracy: 0.9971\n",
            "Epoch 66/1000\n",
            " 1/25 [>.............................] - ETA: 0s - loss: 0.1981 - accuracy: 0.9531\n",
            "Epoch 66: saving model to model/keypoint_classifier/keypoint_classifier.hdf5\n",
            "25/25 [==============================] - 0s 2ms/step - loss: 0.2639 - accuracy: 0.8988 - val_loss: 0.0705 - val_accuracy: 0.9971\n",
            "Epoch 67/1000\n",
            " 1/25 [>.............................] - ETA: 0s - loss: 0.2592 - accuracy: 0.8828\n",
            "Epoch 67: saving model to model/keypoint_classifier/keypoint_classifier.hdf5\n",
            "25/25 [==============================] - 0s 2ms/step - loss: 0.2646 - accuracy: 0.8933 - val_loss: 0.0712 - val_accuracy: 0.9971\n",
            "Epoch 68/1000\n",
            " 1/25 [>.............................] - ETA: 0s - loss: 0.3459 - accuracy: 0.8828\n",
            "Epoch 68: saving model to model/keypoint_classifier/keypoint_classifier.hdf5\n",
            "25/25 [==============================] - 0s 2ms/step - loss: 0.2635 - accuracy: 0.8991 - val_loss: 0.0731 - val_accuracy: 0.9971\n",
            "Epoch 69/1000\n",
            " 1/25 [>.............................] - ETA: 0s - loss: 0.2913 - accuracy: 0.8828\n",
            "Epoch 69: saving model to model/keypoint_classifier/keypoint_classifier.hdf5\n",
            "25/25 [==============================] - 0s 2ms/step - loss: 0.2592 - accuracy: 0.8988 - val_loss: 0.0675 - val_accuracy: 0.9942\n",
            "Epoch 70/1000\n",
            " 1/25 [>.............................] - ETA: 0s - loss: 0.2559 - accuracy: 0.9062\n",
            "Epoch 70: saving model to model/keypoint_classifier/keypoint_classifier.hdf5\n",
            "25/25 [==============================] - 0s 2ms/step - loss: 0.2807 - accuracy: 0.8907 - val_loss: 0.0675 - val_accuracy: 0.9971\n",
            "Epoch 71/1000\n",
            " 1/25 [>.............................] - ETA: 0s - loss: 0.3224 - accuracy: 0.8828\n",
            "Epoch 71: saving model to model/keypoint_classifier/keypoint_classifier.hdf5\n",
            "25/25 [==============================] - 0s 2ms/step - loss: 0.2684 - accuracy: 0.8930 - val_loss: 0.0698 - val_accuracy: 0.9933\n",
            "Epoch 72/1000\n",
            " 1/25 [>.............................] - ETA: 0s - loss: 0.2418 - accuracy: 0.9141\n",
            "Epoch 72: saving model to model/keypoint_classifier/keypoint_classifier.hdf5\n",
            "25/25 [==============================] - 0s 2ms/step - loss: 0.2509 - accuracy: 0.9010 - val_loss: 0.0679 - val_accuracy: 0.9971\n",
            "Epoch 73/1000\n",
            " 1/25 [>.............................] - ETA: 0s - loss: 0.3281 - accuracy: 0.8750\n",
            "Epoch 73: saving model to model/keypoint_classifier/keypoint_classifier.hdf5\n",
            "25/25 [==============================] - 0s 2ms/step - loss: 0.2495 - accuracy: 0.9017 - val_loss: 0.0635 - val_accuracy: 0.9981\n",
            "Epoch 74/1000\n",
            " 1/25 [>.............................] - ETA: 0s - loss: 0.2295 - accuracy: 0.9297\n",
            "Epoch 74: saving model to model/keypoint_classifier/keypoint_classifier.hdf5\n",
            "25/25 [==============================] - 0s 2ms/step - loss: 0.2402 - accuracy: 0.9023 - val_loss: 0.0607 - val_accuracy: 0.9971\n",
            "Epoch 75/1000\n",
            " 1/25 [>.............................] - ETA: 0s - loss: 0.2940 - accuracy: 0.8516\n",
            "Epoch 75: saving model to model/keypoint_classifier/keypoint_classifier.hdf5\n",
            "25/25 [==============================] - 0s 2ms/step - loss: 0.2724 - accuracy: 0.8920 - val_loss: 0.0607 - val_accuracy: 0.9942\n",
            "Epoch 76/1000\n",
            " 1/25 [>.............................] - ETA: 0s - loss: 0.3026 - accuracy: 0.8750\n",
            "Epoch 76: saving model to model/keypoint_classifier/keypoint_classifier.hdf5\n",
            "25/25 [==============================] - 0s 2ms/step - loss: 0.2583 - accuracy: 0.9001 - val_loss: 0.0580 - val_accuracy: 0.9971\n",
            "Epoch 77/1000\n",
            " 1/25 [>.............................] - ETA: 0s - loss: 0.1910 - accuracy: 0.9297\n",
            "Epoch 77: saving model to model/keypoint_classifier/keypoint_classifier.hdf5\n",
            "25/25 [==============================] - 0s 2ms/step - loss: 0.2402 - accuracy: 0.9065 - val_loss: 0.0593 - val_accuracy: 0.9981\n",
            "Epoch 78/1000\n",
            " 1/25 [>.............................] - ETA: 0s - loss: 0.2871 - accuracy: 0.8750\n",
            "Epoch 78: saving model to model/keypoint_classifier/keypoint_classifier.hdf5\n",
            "25/25 [==============================] - 0s 2ms/step - loss: 0.2438 - accuracy: 0.9007 - val_loss: 0.0546 - val_accuracy: 0.9981\n",
            "Epoch 79/1000\n",
            " 1/25 [>.............................] - ETA: 0s - loss: 0.2232 - accuracy: 0.8906\n",
            "Epoch 79: saving model to model/keypoint_classifier/keypoint_classifier.hdf5\n",
            "25/25 [==============================] - 0s 2ms/step - loss: 0.2421 - accuracy: 0.9004 - val_loss: 0.0568 - val_accuracy: 0.9981\n",
            "Epoch 80/1000\n",
            " 1/25 [>.............................] - ETA: 0s - loss: 0.1867 - accuracy: 0.9297\n",
            "Epoch 80: saving model to model/keypoint_classifier/keypoint_classifier.hdf5\n",
            "25/25 [==============================] - 0s 2ms/step - loss: 0.2515 - accuracy: 0.8994 - val_loss: 0.0528 - val_accuracy: 0.9981\n",
            "Epoch 81/1000\n",
            " 1/25 [>.............................] - ETA: 0s - loss: 0.2842 - accuracy: 0.8359\n",
            "Epoch 81: saving model to model/keypoint_classifier/keypoint_classifier.hdf5\n",
            "25/25 [==============================] - 0s 2ms/step - loss: 0.2637 - accuracy: 0.8978 - val_loss: 0.0522 - val_accuracy: 0.9952\n",
            "Epoch 82/1000\n",
            " 1/25 [>.............................] - ETA: 0s - loss: 0.2567 - accuracy: 0.8828\n",
            "Epoch 82: saving model to model/keypoint_classifier/keypoint_classifier.hdf5\n",
            "25/25 [==============================] - 0s 2ms/step - loss: 0.2355 - accuracy: 0.9107 - val_loss: 0.0518 - val_accuracy: 0.9942\n",
            "Epoch 83/1000\n",
            " 1/25 [>.............................] - ETA: 0s - loss: 0.2004 - accuracy: 0.9219\n",
            "Epoch 83: saving model to model/keypoint_classifier/keypoint_classifier.hdf5\n",
            "25/25 [==============================] - 0s 2ms/step - loss: 0.2521 - accuracy: 0.9023 - val_loss: 0.0554 - val_accuracy: 0.9971\n",
            "Epoch 84/1000\n",
            " 1/25 [>.............................] - ETA: 0s - loss: 0.3210 - accuracy: 0.8594\n",
            "Epoch 84: saving model to model/keypoint_classifier/keypoint_classifier.hdf5\n",
            "25/25 [==============================] - 0s 2ms/step - loss: 0.2467 - accuracy: 0.9010 - val_loss: 0.0544 - val_accuracy: 0.9933\n",
            "Epoch 85/1000\n",
            " 1/25 [>.............................] - ETA: 0s - loss: 0.2439 - accuracy: 0.8906\n",
            "Epoch 85: saving model to model/keypoint_classifier/keypoint_classifier.hdf5\n",
            "25/25 [==============================] - 0s 2ms/step - loss: 0.2458 - accuracy: 0.9055 - val_loss: 0.0566 - val_accuracy: 0.9942\n",
            "Epoch 86/1000\n",
            " 1/25 [>.............................] - ETA: 0s - loss: 0.1947 - accuracy: 0.9375\n",
            "Epoch 86: saving model to model/keypoint_classifier/keypoint_classifier.hdf5\n",
            "25/25 [==============================] - 0s 2ms/step - loss: 0.2443 - accuracy: 0.9046 - val_loss: 0.0526 - val_accuracy: 0.9933\n",
            "Epoch 87/1000\n",
            " 1/25 [>.............................] - ETA: 0s - loss: 0.3003 - accuracy: 0.8906\n",
            "Epoch 87: saving model to model/keypoint_classifier/keypoint_classifier.hdf5\n",
            "25/25 [==============================] - 0s 2ms/step - loss: 0.2571 - accuracy: 0.8940 - val_loss: 0.0500 - val_accuracy: 0.9971\n",
            "Epoch 88/1000\n",
            " 1/25 [>.............................] - ETA: 0s - loss: 0.1900 - accuracy: 0.9141\n",
            "Epoch 88: saving model to model/keypoint_classifier/keypoint_classifier.hdf5\n",
            "25/25 [==============================] - 0s 2ms/step - loss: 0.2384 - accuracy: 0.9081 - val_loss: 0.0533 - val_accuracy: 0.9933\n",
            "Epoch 89/1000\n",
            " 1/25 [>.............................] - ETA: 0s - loss: 0.1865 - accuracy: 0.9375\n",
            "Epoch 89: saving model to model/keypoint_classifier/keypoint_classifier.hdf5\n",
            "25/25 [==============================] - 0s 2ms/step - loss: 0.2258 - accuracy: 0.9120 - val_loss: 0.0496 - val_accuracy: 0.9933\n",
            "Epoch 90/1000\n",
            " 1/25 [>.............................] - ETA: 0s - loss: 0.1942 - accuracy: 0.9297\n",
            "Epoch 90: saving model to model/keypoint_classifier/keypoint_classifier.hdf5\n",
            "25/25 [==============================] - 0s 2ms/step - loss: 0.2295 - accuracy: 0.9081 - val_loss: 0.0507 - val_accuracy: 0.9933\n",
            "Epoch 91/1000\n",
            " 1/25 [>.............................] - ETA: 0s - loss: 0.1797 - accuracy: 0.9297\n",
            "Epoch 91: saving model to model/keypoint_classifier/keypoint_classifier.hdf5\n",
            "25/25 [==============================] - 0s 2ms/step - loss: 0.2256 - accuracy: 0.9139 - val_loss: 0.0481 - val_accuracy: 0.9971\n",
            "Epoch 92/1000\n",
            " 1/25 [>.............................] - ETA: 0s - loss: 0.1904 - accuracy: 0.9297\n",
            "Epoch 92: saving model to model/keypoint_classifier/keypoint_classifier.hdf5\n",
            "25/25 [==============================] - 0s 2ms/step - loss: 0.2360 - accuracy: 0.9094 - val_loss: 0.0444 - val_accuracy: 0.9981\n",
            "Epoch 93/1000\n",
            " 1/25 [>.............................] - ETA: 0s - loss: 0.2961 - accuracy: 0.8750\n",
            "Epoch 93: saving model to model/keypoint_classifier/keypoint_classifier.hdf5\n",
            "25/25 [==============================] - 0s 2ms/step - loss: 0.2247 - accuracy: 0.9075 - val_loss: 0.0483 - val_accuracy: 0.9981\n",
            "Epoch 94/1000\n",
            " 1/25 [>.............................] - ETA: 0s - loss: 0.2417 - accuracy: 0.8906\n",
            "Epoch 94: saving model to model/keypoint_classifier/keypoint_classifier.hdf5\n",
            "25/25 [==============================] - 0s 2ms/step - loss: 0.2409 - accuracy: 0.9046 - val_loss: 0.0437 - val_accuracy: 0.9981\n",
            "Epoch 95/1000\n",
            " 1/25 [>.............................] - ETA: 0s - loss: 0.2522 - accuracy: 0.9219\n",
            "Epoch 95: saving model to model/keypoint_classifier/keypoint_classifier.hdf5\n",
            "25/25 [==============================] - 0s 2ms/step - loss: 0.2155 - accuracy: 0.9171 - val_loss: 0.0429 - val_accuracy: 0.9990\n",
            "Epoch 96/1000\n",
            " 1/25 [>.............................] - ETA: 0s - loss: 0.1931 - accuracy: 0.9219\n",
            "Epoch 96: saving model to model/keypoint_classifier/keypoint_classifier.hdf5\n",
            "25/25 [==============================] - 0s 2ms/step - loss: 0.2332 - accuracy: 0.9116 - val_loss: 0.0413 - val_accuracy: 0.9981\n",
            "Epoch 97/1000\n",
            " 1/25 [>.............................] - ETA: 0s - loss: 0.2141 - accuracy: 0.9453\n",
            "Epoch 97: saving model to model/keypoint_classifier/keypoint_classifier.hdf5\n",
            "25/25 [==============================] - 0s 2ms/step - loss: 0.2286 - accuracy: 0.9142 - val_loss: 0.0430 - val_accuracy: 0.9971\n",
            "Epoch 98/1000\n",
            " 1/25 [>.............................] - ETA: 0s - loss: 0.2346 - accuracy: 0.9219\n",
            "Epoch 98: saving model to model/keypoint_classifier/keypoint_classifier.hdf5\n",
            "25/25 [==============================] - 0s 2ms/step - loss: 0.2328 - accuracy: 0.9107 - val_loss: 0.0415 - val_accuracy: 0.9981\n",
            "Epoch 99/1000\n",
            " 1/25 [>.............................] - ETA: 0s - loss: 0.1681 - accuracy: 0.9766\n",
            "Epoch 99: saving model to model/keypoint_classifier/keypoint_classifier.hdf5\n",
            "25/25 [==============================] - 0s 3ms/step - loss: 0.2263 - accuracy: 0.9184 - val_loss: 0.0446 - val_accuracy: 0.9971\n",
            "Epoch 100/1000\n",
            " 1/25 [>.............................] - ETA: 0s - loss: 0.2764 - accuracy: 0.9219\n",
            "Epoch 100: saving model to model/keypoint_classifier/keypoint_classifier.hdf5\n",
            "25/25 [==============================] - 0s 2ms/step - loss: 0.2377 - accuracy: 0.9078 - val_loss: 0.0415 - val_accuracy: 0.9981\n",
            "Epoch 101/1000\n",
            " 1/25 [>.............................] - ETA: 0s - loss: 0.2834 - accuracy: 0.8750\n",
            "Epoch 101: saving model to model/keypoint_classifier/keypoint_classifier.hdf5\n",
            "25/25 [==============================] - 0s 2ms/step - loss: 0.2430 - accuracy: 0.9023 - val_loss: 0.0439 - val_accuracy: 0.9981\n",
            "Epoch 102/1000\n",
            " 1/25 [>.............................] - ETA: 0s - loss: 0.2336 - accuracy: 0.9062\n",
            "Epoch 102: saving model to model/keypoint_classifier/keypoint_classifier.hdf5\n",
            "25/25 [==============================] - 0s 2ms/step - loss: 0.2299 - accuracy: 0.9087 - val_loss: 0.0401 - val_accuracy: 0.9990\n",
            "Epoch 103/1000\n",
            " 1/25 [>.............................] - ETA: 0s - loss: 0.2534 - accuracy: 0.9062\n",
            "Epoch 103: saving model to model/keypoint_classifier/keypoint_classifier.hdf5\n",
            "25/25 [==============================] - 0s 3ms/step - loss: 0.2345 - accuracy: 0.9100 - val_loss: 0.0445 - val_accuracy: 0.9990\n",
            "Epoch 104/1000\n",
            " 1/25 [>.............................] - ETA: 0s - loss: 0.2445 - accuracy: 0.9219\n",
            "Epoch 104: saving model to model/keypoint_classifier/keypoint_classifier.hdf5\n",
            "25/25 [==============================] - 0s 2ms/step - loss: 0.2277 - accuracy: 0.9155 - val_loss: 0.0405 - val_accuracy: 0.9990\n",
            "Epoch 105/1000\n",
            " 1/25 [>.............................] - ETA: 0s - loss: 0.1966 - accuracy: 0.9141\n",
            "Epoch 105: saving model to model/keypoint_classifier/keypoint_classifier.hdf5\n",
            "25/25 [==============================] - 0s 2ms/step - loss: 0.2316 - accuracy: 0.9129 - val_loss: 0.0390 - val_accuracy: 0.9990\n",
            "Epoch 106/1000\n",
            " 1/25 [>.............................] - ETA: 0s - loss: 0.2271 - accuracy: 0.9141\n",
            "Epoch 106: saving model to model/keypoint_classifier/keypoint_classifier.hdf5\n",
            "25/25 [==============================] - 0s 2ms/step - loss: 0.2460 - accuracy: 0.9107 - val_loss: 0.0395 - val_accuracy: 0.9990\n",
            "Epoch 107/1000\n",
            " 1/25 [>.............................] - ETA: 0s - loss: 0.2041 - accuracy: 0.9219\n",
            "Epoch 107: saving model to model/keypoint_classifier/keypoint_classifier.hdf5\n",
            "25/25 [==============================] - 0s 2ms/step - loss: 0.2154 - accuracy: 0.9226 - val_loss: 0.0363 - val_accuracy: 0.9990\n",
            "Epoch 108/1000\n",
            " 1/25 [>.............................] - ETA: 0s - loss: 0.1879 - accuracy: 0.9531\n",
            "Epoch 108: saving model to model/keypoint_classifier/keypoint_classifier.hdf5\n",
            "25/25 [==============================] - 0s 2ms/step - loss: 0.2181 - accuracy: 0.9145 - val_loss: 0.0374 - val_accuracy: 0.9990\n",
            "Epoch 109/1000\n",
            " 1/25 [>.............................] - ETA: 0s - loss: 0.2260 - accuracy: 0.9141\n",
            "Epoch 109: saving model to model/keypoint_classifier/keypoint_classifier.hdf5\n",
            "25/25 [==============================] - 0s 2ms/step - loss: 0.2288 - accuracy: 0.9168 - val_loss: 0.0380 - val_accuracy: 0.9990\n",
            "Epoch 110/1000\n",
            " 1/25 [>.............................] - ETA: 0s - loss: 0.1731 - accuracy: 0.9453\n",
            "Epoch 110: saving model to model/keypoint_classifier/keypoint_classifier.hdf5\n",
            "25/25 [==============================] - 0s 2ms/step - loss: 0.2120 - accuracy: 0.9193 - val_loss: 0.0361 - val_accuracy: 0.9990\n",
            "Epoch 111/1000\n",
            " 1/25 [>.............................] - ETA: 0s - loss: 0.1574 - accuracy: 0.9453\n",
            "Epoch 111: saving model to model/keypoint_classifier/keypoint_classifier.hdf5\n",
            "25/25 [==============================] - 0s 2ms/step - loss: 0.2038 - accuracy: 0.9222 - val_loss: 0.0346 - val_accuracy: 0.9971\n",
            "Epoch 112/1000\n",
            " 1/25 [>.............................] - ETA: 0s - loss: 0.1868 - accuracy: 0.9141\n",
            "Epoch 112: saving model to model/keypoint_classifier/keypoint_classifier.hdf5\n",
            "25/25 [==============================] - 0s 2ms/step - loss: 0.2232 - accuracy: 0.9120 - val_loss: 0.0342 - val_accuracy: 0.9990\n",
            "Epoch 113/1000\n",
            " 1/25 [>.............................] - ETA: 0s - loss: 0.2398 - accuracy: 0.8984\n",
            "Epoch 113: saving model to model/keypoint_classifier/keypoint_classifier.hdf5\n",
            "25/25 [==============================] - 0s 2ms/step - loss: 0.2336 - accuracy: 0.9094 - val_loss: 0.0354 - val_accuracy: 0.9990\n",
            "Epoch 114/1000\n",
            " 1/25 [>.............................] - ETA: 0s - loss: 0.2243 - accuracy: 0.9219\n",
            "Epoch 114: saving model to model/keypoint_classifier/keypoint_classifier.hdf5\n",
            "25/25 [==============================] - 0s 2ms/step - loss: 0.2149 - accuracy: 0.9193 - val_loss: 0.0358 - val_accuracy: 0.9990\n",
            "Epoch 115/1000\n",
            " 1/25 [>.............................] - ETA: 0s - loss: 0.2888 - accuracy: 0.8594\n",
            "Epoch 115: saving model to model/keypoint_classifier/keypoint_classifier.hdf5\n",
            "25/25 [==============================] - 0s 2ms/step - loss: 0.2154 - accuracy: 0.9187 - val_loss: 0.0325 - val_accuracy: 0.9981\n",
            "Epoch 116/1000\n",
            " 1/25 [>.............................] - ETA: 0s - loss: 0.3244 - accuracy: 0.8672\n",
            "Epoch 116: saving model to model/keypoint_classifier/keypoint_classifier.hdf5\n",
            "25/25 [==============================] - 0s 2ms/step - loss: 0.2316 - accuracy: 0.9165 - val_loss: 0.0322 - val_accuracy: 0.9990\n",
            "Epoch 117/1000\n",
            " 1/25 [>.............................] - ETA: 0s - loss: 0.2548 - accuracy: 0.9062\n",
            "Epoch 117: saving model to model/keypoint_classifier/keypoint_classifier.hdf5\n",
            "25/25 [==============================] - 0s 2ms/step - loss: 0.2234 - accuracy: 0.9181 - val_loss: 0.0322 - val_accuracy: 0.9990\n",
            "Epoch 118/1000\n",
            " 1/25 [>.............................] - ETA: 0s - loss: 0.3305 - accuracy: 0.8750\n",
            "Epoch 118: saving model to model/keypoint_classifier/keypoint_classifier.hdf5\n",
            "25/25 [==============================] - 0s 2ms/step - loss: 0.2341 - accuracy: 0.9103 - val_loss: 0.0342 - val_accuracy: 0.9990\n",
            "Epoch 119/1000\n",
            " 1/25 [>.............................] - ETA: 0s - loss: 0.2398 - accuracy: 0.8984\n",
            "Epoch 119: saving model to model/keypoint_classifier/keypoint_classifier.hdf5\n",
            "25/25 [==============================] - 0s 2ms/step - loss: 0.2126 - accuracy: 0.9168 - val_loss: 0.0340 - val_accuracy: 0.9990\n",
            "Epoch 120/1000\n",
            " 1/25 [>.............................] - ETA: 0s - loss: 0.1909 - accuracy: 0.9297\n",
            "Epoch 120: saving model to model/keypoint_classifier/keypoint_classifier.hdf5\n",
            "25/25 [==============================] - 0s 2ms/step - loss: 0.2073 - accuracy: 0.9187 - val_loss: 0.0330 - val_accuracy: 0.9990\n",
            "Epoch 121/1000\n",
            " 1/25 [>.............................] - ETA: 0s - loss: 0.2173 - accuracy: 0.8906\n",
            "Epoch 121: saving model to model/keypoint_classifier/keypoint_classifier.hdf5\n",
            "25/25 [==============================] - 0s 2ms/step - loss: 0.2320 - accuracy: 0.9116 - val_loss: 0.0342 - val_accuracy: 0.9990\n",
            "Epoch 122/1000\n",
            " 1/25 [>.............................] - ETA: 0s - loss: 0.1814 - accuracy: 0.9375\n",
            "Epoch 122: saving model to model/keypoint_classifier/keypoint_classifier.hdf5\n",
            "25/25 [==============================] - 0s 2ms/step - loss: 0.2192 - accuracy: 0.9200 - val_loss: 0.0334 - val_accuracy: 0.9990\n",
            "Epoch 123/1000\n",
            " 1/25 [>.............................] - ETA: 0s - loss: 0.1577 - accuracy: 0.9453\n",
            "Epoch 123: saving model to model/keypoint_classifier/keypoint_classifier.hdf5\n",
            "25/25 [==============================] - 0s 2ms/step - loss: 0.2118 - accuracy: 0.9168 - val_loss: 0.0346 - val_accuracy: 0.9990\n",
            "Epoch 124/1000\n",
            " 1/25 [>.............................] - ETA: 0s - loss: 0.2493 - accuracy: 0.9297\n",
            "Epoch 124: saving model to model/keypoint_classifier/keypoint_classifier.hdf5\n",
            "25/25 [==============================] - 0s 2ms/step - loss: 0.2222 - accuracy: 0.9190 - val_loss: 0.0360 - val_accuracy: 0.9990\n",
            "Epoch 125/1000\n",
            " 1/25 [>.............................] - ETA: 0s - loss: 0.2301 - accuracy: 0.8984\n",
            "Epoch 125: saving model to model/keypoint_classifier/keypoint_classifier.hdf5\n",
            "25/25 [==============================] - 0s 2ms/step - loss: 0.2362 - accuracy: 0.9091 - val_loss: 0.0356 - val_accuracy: 0.9990\n",
            "Epoch 126/1000\n",
            " 1/25 [>.............................] - ETA: 0s - loss: 0.2551 - accuracy: 0.8906\n",
            "Epoch 126: saving model to model/keypoint_classifier/keypoint_classifier.hdf5\n",
            "25/25 [==============================] - 0s 2ms/step - loss: 0.2296 - accuracy: 0.9113 - val_loss: 0.0348 - val_accuracy: 0.9981\n",
            "Epoch 127/1000\n",
            " 1/25 [>.............................] - ETA: 0s - loss: 0.1530 - accuracy: 0.9453\n",
            "Epoch 127: saving model to model/keypoint_classifier/keypoint_classifier.hdf5\n",
            "25/25 [==============================] - 0s 2ms/step - loss: 0.2197 - accuracy: 0.9213 - val_loss: 0.0339 - val_accuracy: 0.9990\n",
            "Epoch 128/1000\n",
            " 1/25 [>.............................] - ETA: 0s - loss: 0.2624 - accuracy: 0.9062\n",
            "Epoch 128: saving model to model/keypoint_classifier/keypoint_classifier.hdf5\n",
            "25/25 [==============================] - 0s 2ms/step - loss: 0.2197 - accuracy: 0.9203 - val_loss: 0.0350 - val_accuracy: 0.9990\n",
            "Epoch 129/1000\n",
            " 1/25 [>.............................] - ETA: 0s - loss: 0.1858 - accuracy: 0.9453\n",
            "Epoch 129: saving model to model/keypoint_classifier/keypoint_classifier.hdf5\n",
            "25/25 [==============================] - 0s 2ms/step - loss: 0.2013 - accuracy: 0.9216 - val_loss: 0.0328 - val_accuracy: 0.9990\n",
            "Epoch 130/1000\n",
            " 1/25 [>.............................] - ETA: 0s - loss: 0.2846 - accuracy: 0.8906\n",
            "Epoch 130: saving model to model/keypoint_classifier/keypoint_classifier.hdf5\n",
            "25/25 [==============================] - 0s 2ms/step - loss: 0.2371 - accuracy: 0.9139 - val_loss: 0.0328 - val_accuracy: 0.9990\n",
            "Epoch 131/1000\n",
            " 1/25 [>.............................] - ETA: 0s - loss: 0.1980 - accuracy: 0.9141\n",
            "Epoch 131: saving model to model/keypoint_classifier/keypoint_classifier.hdf5\n",
            "25/25 [==============================] - 0s 2ms/step - loss: 0.2143 - accuracy: 0.9142 - val_loss: 0.0353 - val_accuracy: 0.9990\n",
            "Epoch 132/1000\n",
            " 1/25 [>.............................] - ETA: 0s - loss: 0.2446 - accuracy: 0.9219\n",
            "Epoch 132: saving model to model/keypoint_classifier/keypoint_classifier.hdf5\n",
            "25/25 [==============================] - 0s 2ms/step - loss: 0.2053 - accuracy: 0.9229 - val_loss: 0.0356 - val_accuracy: 0.9990\n",
            "Epoch 133/1000\n",
            " 1/25 [>.............................] - ETA: 0s - loss: 0.1896 - accuracy: 0.9141\n",
            "Epoch 133: saving model to model/keypoint_classifier/keypoint_classifier.hdf5\n",
            "25/25 [==============================] - 0s 2ms/step - loss: 0.2127 - accuracy: 0.9126 - val_loss: 0.0328 - val_accuracy: 0.9990\n",
            "Epoch 134/1000\n",
            " 1/25 [>.............................] - ETA: 0s - loss: 0.1899 - accuracy: 0.9375\n",
            "Epoch 134: saving model to model/keypoint_classifier/keypoint_classifier.hdf5\n",
            "25/25 [==============================] - 0s 2ms/step - loss: 0.2036 - accuracy: 0.9210 - val_loss: 0.0337 - val_accuracy: 0.9990\n",
            "Epoch 135/1000\n",
            " 1/25 [>.............................] - ETA: 0s - loss: 0.2249 - accuracy: 0.9219\n",
            "Epoch 135: saving model to model/keypoint_classifier/keypoint_classifier.hdf5\n",
            "25/25 [==============================] - 0s 2ms/step - loss: 0.2065 - accuracy: 0.9229 - val_loss: 0.0328 - val_accuracy: 0.9990\n",
            "Epoch 136/1000\n",
            " 1/25 [>.............................] - ETA: 0s - loss: 0.2046 - accuracy: 0.9219\n",
            "Epoch 136: saving model to model/keypoint_classifier/keypoint_classifier.hdf5\n",
            "25/25 [==============================] - 0s 2ms/step - loss: 0.2041 - accuracy: 0.9287 - val_loss: 0.0308 - val_accuracy: 0.9990\n",
            "Epoch 137/1000\n",
            " 1/25 [>.............................] - ETA: 0s - loss: 0.1434 - accuracy: 0.9531\n",
            "Epoch 137: saving model to model/keypoint_classifier/keypoint_classifier.hdf5\n",
            "25/25 [==============================] - 0s 2ms/step - loss: 0.2124 - accuracy: 0.9216 - val_loss: 0.0294 - val_accuracy: 0.9990\n",
            "Epoch 138/1000\n",
            " 1/25 [>.............................] - ETA: 0s - loss: 0.1731 - accuracy: 0.9375\n",
            "Epoch 138: saving model to model/keypoint_classifier/keypoint_classifier.hdf5\n",
            "25/25 [==============================] - 0s 2ms/step - loss: 0.2134 - accuracy: 0.9190 - val_loss: 0.0322 - val_accuracy: 0.9990\n",
            "Epoch 139/1000\n",
            " 1/25 [>.............................] - ETA: 0s - loss: 0.2187 - accuracy: 0.9141\n",
            "Epoch 139: saving model to model/keypoint_classifier/keypoint_classifier.hdf5\n",
            "25/25 [==============================] - 0s 2ms/step - loss: 0.2102 - accuracy: 0.9190 - val_loss: 0.0320 - val_accuracy: 0.9990\n",
            "Epoch 140/1000\n",
            " 1/25 [>.............................] - ETA: 0s - loss: 0.1212 - accuracy: 0.9609\n",
            "Epoch 140: saving model to model/keypoint_classifier/keypoint_classifier.hdf5\n",
            "25/25 [==============================] - 0s 2ms/step - loss: 0.2003 - accuracy: 0.9242 - val_loss: 0.0261 - val_accuracy: 0.9990\n",
            "Epoch 141/1000\n",
            " 1/25 [>.............................] - ETA: 0s - loss: 0.2029 - accuracy: 0.9297\n",
            "Epoch 141: saving model to model/keypoint_classifier/keypoint_classifier.hdf5\n",
            "25/25 [==============================] - 0s 2ms/step - loss: 0.2217 - accuracy: 0.9200 - val_loss: 0.0258 - val_accuracy: 0.9990\n",
            "Epoch 142/1000\n",
            " 1/25 [>.............................] - ETA: 0s - loss: 0.1983 - accuracy: 0.9375\n",
            "Epoch 142: saving model to model/keypoint_classifier/keypoint_classifier.hdf5\n",
            "25/25 [==============================] - 0s 2ms/step - loss: 0.1972 - accuracy: 0.9296 - val_loss: 0.0312 - val_accuracy: 0.9990\n",
            "Epoch 143/1000\n",
            " 1/25 [>.............................] - ETA: 0s - loss: 0.2221 - accuracy: 0.9141\n",
            "Epoch 143: saving model to model/keypoint_classifier/keypoint_classifier.hdf5\n",
            "25/25 [==============================] - 0s 2ms/step - loss: 0.2091 - accuracy: 0.9165 - val_loss: 0.0283 - val_accuracy: 0.9990\n",
            "Epoch 144/1000\n",
            " 1/25 [>.............................] - ETA: 0s - loss: 0.1943 - accuracy: 0.9219\n",
            "Epoch 144: saving model to model/keypoint_classifier/keypoint_classifier.hdf5\n",
            "25/25 [==============================] - 0s 2ms/step - loss: 0.1902 - accuracy: 0.9264 - val_loss: 0.0281 - val_accuracy: 0.9990\n",
            "Epoch 145/1000\n",
            " 1/25 [>.............................] - ETA: 0s - loss: 0.2725 - accuracy: 0.9062\n",
            "Epoch 145: saving model to model/keypoint_classifier/keypoint_classifier.hdf5\n",
            "25/25 [==============================] - 0s 2ms/step - loss: 0.2057 - accuracy: 0.9226 - val_loss: 0.0278 - val_accuracy: 0.9990\n",
            "Epoch 146/1000\n",
            " 1/25 [>.............................] - ETA: 0s - loss: 0.2797 - accuracy: 0.8906\n",
            "Epoch 146: saving model to model/keypoint_classifier/keypoint_classifier.hdf5\n",
            "25/25 [==============================] - 0s 2ms/step - loss: 0.2174 - accuracy: 0.9142 - val_loss: 0.0279 - val_accuracy: 0.9990\n",
            "Epoch 147/1000\n",
            " 1/25 [>.............................] - ETA: 0s - loss: 0.2069 - accuracy: 0.9375\n",
            "Epoch 147: saving model to model/keypoint_classifier/keypoint_classifier.hdf5\n",
            "25/25 [==============================] - 0s 2ms/step - loss: 0.2032 - accuracy: 0.9271 - val_loss: 0.0292 - val_accuracy: 0.9990\n",
            "Epoch 148/1000\n",
            " 1/25 [>.............................] - ETA: 0s - loss: 0.2057 - accuracy: 0.9297\n",
            "Epoch 148: saving model to model/keypoint_classifier/keypoint_classifier.hdf5\n",
            "25/25 [==============================] - 0s 2ms/step - loss: 0.2133 - accuracy: 0.9219 - val_loss: 0.0264 - val_accuracy: 0.9990\n",
            "Epoch 149/1000\n",
            " 1/25 [>.............................] - ETA: 0s - loss: 0.2085 - accuracy: 0.9375\n",
            "Epoch 149: saving model to model/keypoint_classifier/keypoint_classifier.hdf5\n",
            "25/25 [==============================] - 0s 2ms/step - loss: 0.2096 - accuracy: 0.9242 - val_loss: 0.0275 - val_accuracy: 0.9990\n",
            "Epoch 150/1000\n",
            " 1/25 [>.............................] - ETA: 0s - loss: 0.2294 - accuracy: 0.8984\n",
            "Epoch 150: saving model to model/keypoint_classifier/keypoint_classifier.hdf5\n",
            "25/25 [==============================] - 0s 2ms/step - loss: 0.1922 - accuracy: 0.9274 - val_loss: 0.0284 - val_accuracy: 0.9981\n",
            "Epoch 151/1000\n",
            " 1/25 [>.............................] - ETA: 0s - loss: 0.1448 - accuracy: 0.9453\n",
            "Epoch 151: saving model to model/keypoint_classifier/keypoint_classifier.hdf5\n",
            "25/25 [==============================] - 0s 2ms/step - loss: 0.1959 - accuracy: 0.9264 - val_loss: 0.0276 - val_accuracy: 0.9990\n",
            "Epoch 152/1000\n",
            " 1/25 [>.............................] - ETA: 0s - loss: 0.1315 - accuracy: 0.9531\n",
            "Epoch 152: saving model to model/keypoint_classifier/keypoint_classifier.hdf5\n",
            "25/25 [==============================] - 0s 2ms/step - loss: 0.1888 - accuracy: 0.9293 - val_loss: 0.0260 - val_accuracy: 0.9990\n",
            "Epoch 153/1000\n",
            " 1/25 [>.............................] - ETA: 0s - loss: 0.2600 - accuracy: 0.9062\n",
            "Epoch 153: saving model to model/keypoint_classifier/keypoint_classifier.hdf5\n",
            "25/25 [==============================] - 0s 2ms/step - loss: 0.2103 - accuracy: 0.9187 - val_loss: 0.0278 - val_accuracy: 0.9990\n",
            "Epoch 154/1000\n",
            " 1/25 [>.............................] - ETA: 0s - loss: 0.1822 - accuracy: 0.9219\n",
            "Epoch 154: saving model to model/keypoint_classifier/keypoint_classifier.hdf5\n",
            "25/25 [==============================] - 0s 2ms/step - loss: 0.2065 - accuracy: 0.9210 - val_loss: 0.0306 - val_accuracy: 0.9990\n",
            "Epoch 155/1000\n",
            " 1/25 [>.............................] - ETA: 0s - loss: 0.2156 - accuracy: 0.9062\n",
            "Epoch 155: saving model to model/keypoint_classifier/keypoint_classifier.hdf5\n",
            "25/25 [==============================] - 0s 2ms/step - loss: 0.2134 - accuracy: 0.9181 - val_loss: 0.0285 - val_accuracy: 0.9990\n",
            "Epoch 156/1000\n",
            " 1/25 [>.............................] - ETA: 0s - loss: 0.2743 - accuracy: 0.9062\n",
            "Epoch 156: saving model to model/keypoint_classifier/keypoint_classifier.hdf5\n",
            "25/25 [==============================] - 0s 2ms/step - loss: 0.1959 - accuracy: 0.9267 - val_loss: 0.0265 - val_accuracy: 0.9990\n",
            "Epoch 157/1000\n",
            " 1/25 [>.............................] - ETA: 0s - loss: 0.2091 - accuracy: 0.9297\n",
            "Epoch 157: saving model to model/keypoint_classifier/keypoint_classifier.hdf5\n",
            "25/25 [==============================] - 0s 2ms/step - loss: 0.2071 - accuracy: 0.9203 - val_loss: 0.0278 - val_accuracy: 0.9990\n",
            "Epoch 158/1000\n",
            " 1/25 [>.............................] - ETA: 0s - loss: 0.2253 - accuracy: 0.9219\n",
            "Epoch 158: saving model to model/keypoint_classifier/keypoint_classifier.hdf5\n",
            "25/25 [==============================] - 0s 2ms/step - loss: 0.2035 - accuracy: 0.9242 - val_loss: 0.0303 - val_accuracy: 0.9990\n",
            "Epoch 159/1000\n",
            " 1/25 [>.............................] - ETA: 0s - loss: 0.1767 - accuracy: 0.9531\n",
            "Epoch 159: saving model to model/keypoint_classifier/keypoint_classifier.hdf5\n",
            "25/25 [==============================] - 0s 2ms/step - loss: 0.1896 - accuracy: 0.9283 - val_loss: 0.0271 - val_accuracy: 0.9990\n",
            "Epoch 160/1000\n",
            " 1/25 [>.............................] - ETA: 0s - loss: 0.2440 - accuracy: 0.9141\n",
            "Epoch 160: saving model to model/keypoint_classifier/keypoint_classifier.hdf5\n",
            "25/25 [==============================] - 0s 2ms/step - loss: 0.2123 - accuracy: 0.9171 - val_loss: 0.0265 - val_accuracy: 0.9990\n",
            "Epoch 161/1000\n",
            " 1/25 [>.............................] - ETA: 0s - loss: 0.1500 - accuracy: 0.9453\n",
            "Epoch 161: saving model to model/keypoint_classifier/keypoint_classifier.hdf5\n",
            "25/25 [==============================] - 0s 2ms/step - loss: 0.1971 - accuracy: 0.9267 - val_loss: 0.0247 - val_accuracy: 0.9990\n",
            "Epoch 162/1000\n",
            " 1/25 [>.............................] - ETA: 0s - loss: 0.2253 - accuracy: 0.8984\n",
            "Epoch 162: saving model to model/keypoint_classifier/keypoint_classifier.hdf5\n",
            "25/25 [==============================] - 0s 2ms/step - loss: 0.2049 - accuracy: 0.9219 - val_loss: 0.0252 - val_accuracy: 0.9990\n",
            "Epoch 163/1000\n",
            " 1/25 [>.............................] - ETA: 0s - loss: 0.1130 - accuracy: 0.9531\n",
            "Epoch 163: saving model to model/keypoint_classifier/keypoint_classifier.hdf5\n",
            "25/25 [==============================] - 0s 2ms/step - loss: 0.1917 - accuracy: 0.9283 - val_loss: 0.0255 - val_accuracy: 0.9990\n",
            "Epoch 164/1000\n",
            " 1/25 [>.............................] - ETA: 0s - loss: 0.1734 - accuracy: 0.9297\n",
            "Epoch 164: saving model to model/keypoint_classifier/keypoint_classifier.hdf5\n",
            "25/25 [==============================] - 0s 2ms/step - loss: 0.2029 - accuracy: 0.9206 - val_loss: 0.0269 - val_accuracy: 0.9990\n",
            "Epoch 165/1000\n",
            " 1/25 [>.............................] - ETA: 0s - loss: 0.1954 - accuracy: 0.9297\n",
            "Epoch 165: saving model to model/keypoint_classifier/keypoint_classifier.hdf5\n",
            "25/25 [==============================] - 0s 2ms/step - loss: 0.1905 - accuracy: 0.9287 - val_loss: 0.0254 - val_accuracy: 0.9990\n",
            "Epoch 166/1000\n",
            " 1/25 [>.............................] - ETA: 0s - loss: 0.2124 - accuracy: 0.9297\n",
            "Epoch 166: saving model to model/keypoint_classifier/keypoint_classifier.hdf5\n",
            "25/25 [==============================] - 0s 2ms/step - loss: 0.2056 - accuracy: 0.9245 - val_loss: 0.0267 - val_accuracy: 0.9990\n",
            "Epoch 167/1000\n",
            " 1/25 [>.............................] - ETA: 0s - loss: 0.2005 - accuracy: 0.9062\n",
            "Epoch 167: saving model to model/keypoint_classifier/keypoint_classifier.hdf5\n",
            "25/25 [==============================] - 0s 2ms/step - loss: 0.1848 - accuracy: 0.9338 - val_loss: 0.0281 - val_accuracy: 0.9990\n",
            "Epoch 168/1000\n",
            " 1/25 [>.............................] - ETA: 0s - loss: 0.1453 - accuracy: 0.9609\n",
            "Epoch 168: saving model to model/keypoint_classifier/keypoint_classifier.hdf5\n",
            "25/25 [==============================] - 0s 2ms/step - loss: 0.1895 - accuracy: 0.9219 - val_loss: 0.0278 - val_accuracy: 0.9990\n",
            "Epoch 169/1000\n",
            " 1/25 [>.............................] - ETA: 0s - loss: 0.3887 - accuracy: 0.8516\n",
            "Epoch 169: saving model to model/keypoint_classifier/keypoint_classifier.hdf5\n",
            "25/25 [==============================] - 0s 2ms/step - loss: 0.2047 - accuracy: 0.9184 - val_loss: 0.0276 - val_accuracy: 0.9990\n",
            "Epoch 170/1000\n",
            " 1/25 [>.............................] - ETA: 0s - loss: 0.2115 - accuracy: 0.9297\n",
            "Epoch 170: saving model to model/keypoint_classifier/keypoint_classifier.hdf5\n",
            "25/25 [==============================] - 0s 2ms/step - loss: 0.2091 - accuracy: 0.9248 - val_loss: 0.0261 - val_accuracy: 0.9990\n",
            "Epoch 171/1000\n",
            " 1/25 [>.............................] - ETA: 0s - loss: 0.1305 - accuracy: 0.9609\n",
            "Epoch 171: saving model to model/keypoint_classifier/keypoint_classifier.hdf5\n",
            "25/25 [==============================] - 0s 2ms/step - loss: 0.2112 - accuracy: 0.9193 - val_loss: 0.0264 - val_accuracy: 0.9990\n",
            "Epoch 172/1000\n",
            " 1/25 [>.............................] - ETA: 0s - loss: 0.2066 - accuracy: 0.9219\n",
            "Epoch 172: saving model to model/keypoint_classifier/keypoint_classifier.hdf5\n",
            "25/25 [==============================] - 0s 2ms/step - loss: 0.1920 - accuracy: 0.9299 - val_loss: 0.0284 - val_accuracy: 0.9990\n",
            "Epoch 173/1000\n",
            " 1/25 [>.............................] - ETA: 0s - loss: 0.2773 - accuracy: 0.8984\n",
            "Epoch 173: saving model to model/keypoint_classifier/keypoint_classifier.hdf5\n",
            "25/25 [==============================] - 0s 2ms/step - loss: 0.1872 - accuracy: 0.9254 - val_loss: 0.0273 - val_accuracy: 0.9990\n",
            "Epoch 174/1000\n",
            " 1/25 [>.............................] - ETA: 0s - loss: 0.1916 - accuracy: 0.9219\n",
            "Epoch 174: saving model to model/keypoint_classifier/keypoint_classifier.hdf5\n",
            "25/25 [==============================] - 0s 2ms/step - loss: 0.1899 - accuracy: 0.9271 - val_loss: 0.0275 - val_accuracy: 0.9990\n",
            "Epoch 175/1000\n",
            " 1/25 [>.............................] - ETA: 0s - loss: 0.1887 - accuracy: 0.8984\n",
            "Epoch 175: saving model to model/keypoint_classifier/keypoint_classifier.hdf5\n",
            "25/25 [==============================] - 0s 3ms/step - loss: 0.2066 - accuracy: 0.9264 - val_loss: 0.0247 - val_accuracy: 0.9990\n",
            "Epoch 176/1000\n",
            " 1/25 [>.............................] - ETA: 0s - loss: 0.2256 - accuracy: 0.9219\n",
            "Epoch 176: saving model to model/keypoint_classifier/keypoint_classifier.hdf5\n",
            "25/25 [==============================] - 0s 2ms/step - loss: 0.2088 - accuracy: 0.9238 - val_loss: 0.0280 - val_accuracy: 0.9990\n",
            "Epoch 177/1000\n",
            " 1/25 [>.............................] - ETA: 0s - loss: 0.2331 - accuracy: 0.8984\n",
            "Epoch 177: saving model to model/keypoint_classifier/keypoint_classifier.hdf5\n",
            "25/25 [==============================] - 0s 2ms/step - loss: 0.2130 - accuracy: 0.9229 - val_loss: 0.0289 - val_accuracy: 0.9990\n",
            "Epoch 178/1000\n",
            " 1/25 [>.............................] - ETA: 0s - loss: 0.2914 - accuracy: 0.9062\n",
            "Epoch 178: saving model to model/keypoint_classifier/keypoint_classifier.hdf5\n",
            "25/25 [==============================] - 0s 2ms/step - loss: 0.1988 - accuracy: 0.9290 - val_loss: 0.0268 - val_accuracy: 0.9990\n",
            "Epoch 179/1000\n",
            " 1/25 [>.............................] - ETA: 0s - loss: 0.1192 - accuracy: 0.9766\n",
            "Epoch 179: saving model to model/keypoint_classifier/keypoint_classifier.hdf5\n",
            "25/25 [==============================] - 0s 2ms/step - loss: 0.1751 - accuracy: 0.9319 - val_loss: 0.0253 - val_accuracy: 0.9990\n",
            "Epoch 180/1000\n",
            " 1/25 [>.............................] - ETA: 0s - loss: 0.1488 - accuracy: 0.9531\n",
            "Epoch 180: saving model to model/keypoint_classifier/keypoint_classifier.hdf5\n",
            "25/25 [==============================] - 0s 2ms/step - loss: 0.1851 - accuracy: 0.9293 - val_loss: 0.0260 - val_accuracy: 0.9990\n",
            "Epoch 181/1000\n",
            " 1/25 [>.............................] - ETA: 0s - loss: 0.2115 - accuracy: 0.9062\n",
            "Epoch 181: saving model to model/keypoint_classifier/keypoint_classifier.hdf5\n",
            "25/25 [==============================] - 0s 2ms/step - loss: 0.1993 - accuracy: 0.9254 - val_loss: 0.0247 - val_accuracy: 0.9990\n",
            "Epoch 182/1000\n",
            " 1/25 [>.............................] - ETA: 0s - loss: 0.2160 - accuracy: 0.9141\n",
            "Epoch 182: saving model to model/keypoint_classifier/keypoint_classifier.hdf5\n",
            "25/25 [==============================] - 0s 2ms/step - loss: 0.1912 - accuracy: 0.9267 - val_loss: 0.0260 - val_accuracy: 0.9990\n",
            "Epoch 183/1000\n",
            " 1/25 [>.............................] - ETA: 0s - loss: 0.1990 - accuracy: 0.9219\n",
            "Epoch 183: saving model to model/keypoint_classifier/keypoint_classifier.hdf5\n",
            "25/25 [==============================] - 0s 2ms/step - loss: 0.1948 - accuracy: 0.9338 - val_loss: 0.0258 - val_accuracy: 0.9990\n",
            "Epoch 184/1000\n",
            " 1/25 [>.............................] - ETA: 0s - loss: 0.1416 - accuracy: 0.9531\n",
            "Epoch 184: saving model to model/keypoint_classifier/keypoint_classifier.hdf5\n",
            "25/25 [==============================] - 0s 2ms/step - loss: 0.1985 - accuracy: 0.9261 - val_loss: 0.0267 - val_accuracy: 0.9990\n",
            "Epoch 185/1000\n",
            " 1/25 [>.............................] - ETA: 0s - loss: 0.1609 - accuracy: 0.9531\n",
            "Epoch 185: saving model to model/keypoint_classifier/keypoint_classifier.hdf5\n",
            "25/25 [==============================] - 0s 2ms/step - loss: 0.1878 - accuracy: 0.9319 - val_loss: 0.0274 - val_accuracy: 0.9990\n",
            "Epoch 186/1000\n",
            " 1/25 [>.............................] - ETA: 0s - loss: 0.2822 - accuracy: 0.8984\n",
            "Epoch 186: saving model to model/keypoint_classifier/keypoint_classifier.hdf5\n",
            "25/25 [==============================] - 0s 2ms/step - loss: 0.1998 - accuracy: 0.9248 - val_loss: 0.0264 - val_accuracy: 0.9990\n",
            "Epoch 187/1000\n",
            " 1/25 [>.............................] - ETA: 0s - loss: 0.1359 - accuracy: 0.9688\n",
            "Epoch 187: saving model to model/keypoint_classifier/keypoint_classifier.hdf5\n",
            "25/25 [==============================] - 0s 2ms/step - loss: 0.1889 - accuracy: 0.9267 - val_loss: 0.0281 - val_accuracy: 0.9981\n",
            "Epoch 188/1000\n",
            " 1/25 [>.............................] - ETA: 0s - loss: 0.1788 - accuracy: 0.9531\n",
            "Epoch 188: saving model to model/keypoint_classifier/keypoint_classifier.hdf5\n",
            "25/25 [==============================] - 0s 2ms/step - loss: 0.1995 - accuracy: 0.9264 - val_loss: 0.0235 - val_accuracy: 0.9990\n",
            "Epoch 189/1000\n",
            " 1/25 [>.............................] - ETA: 0s - loss: 0.2625 - accuracy: 0.8906\n",
            "Epoch 189: saving model to model/keypoint_classifier/keypoint_classifier.hdf5\n",
            "25/25 [==============================] - 0s 2ms/step - loss: 0.2007 - accuracy: 0.9226 - val_loss: 0.0261 - val_accuracy: 0.9990\n",
            "Epoch 190/1000\n",
            " 1/25 [>.............................] - ETA: 0s - loss: 0.2393 - accuracy: 0.8828\n",
            "Epoch 190: saving model to model/keypoint_classifier/keypoint_classifier.hdf5\n",
            "25/25 [==============================] - 0s 2ms/step - loss: 0.1781 - accuracy: 0.9325 - val_loss: 0.0260 - val_accuracy: 0.9990\n",
            "Epoch 191/1000\n",
            " 1/25 [>.............................] - ETA: 0s - loss: 0.1884 - accuracy: 0.9297\n",
            "Epoch 191: saving model to model/keypoint_classifier/keypoint_classifier.hdf5\n",
            "25/25 [==============================] - 0s 2ms/step - loss: 0.1968 - accuracy: 0.9251 - val_loss: 0.0249 - val_accuracy: 0.9990\n",
            "Epoch 192/1000\n",
            " 1/25 [>.............................] - ETA: 0s - loss: 0.1091 - accuracy: 0.9609\n",
            "Epoch 192: saving model to model/keypoint_classifier/keypoint_classifier.hdf5\n",
            "25/25 [==============================] - 0s 2ms/step - loss: 0.1861 - accuracy: 0.9303 - val_loss: 0.0261 - val_accuracy: 0.9990\n",
            "Epoch 193/1000\n",
            " 1/25 [>.............................] - ETA: 0s - loss: 0.2197 - accuracy: 0.9297\n",
            "Epoch 193: saving model to model/keypoint_classifier/keypoint_classifier.hdf5\n",
            "25/25 [==============================] - 0s 2ms/step - loss: 0.1991 - accuracy: 0.9235 - val_loss: 0.0248 - val_accuracy: 0.9990\n",
            "Epoch 194/1000\n",
            " 1/25 [>.............................] - ETA: 0s - loss: 0.1246 - accuracy: 0.9609\n",
            "Epoch 194: saving model to model/keypoint_classifier/keypoint_classifier.hdf5\n",
            "25/25 [==============================] - 0s 2ms/step - loss: 0.2032 - accuracy: 0.9193 - val_loss: 0.0299 - val_accuracy: 0.9990\n",
            "Epoch 195/1000\n",
            " 1/25 [>.............................] - ETA: 0s - loss: 0.2023 - accuracy: 0.9375\n",
            "Epoch 195: saving model to model/keypoint_classifier/keypoint_classifier.hdf5\n",
            "25/25 [==============================] - 0s 2ms/step - loss: 0.2077 - accuracy: 0.9264 - val_loss: 0.0241 - val_accuracy: 0.9990\n",
            "Epoch 196/1000\n",
            " 1/25 [>.............................] - ETA: 0s - loss: 0.1533 - accuracy: 0.9375\n",
            "Epoch 196: saving model to model/keypoint_classifier/keypoint_classifier.hdf5\n",
            "25/25 [==============================] - 0s 2ms/step - loss: 0.1954 - accuracy: 0.9258 - val_loss: 0.0271 - val_accuracy: 0.9990\n",
            "Epoch 197/1000\n",
            " 1/25 [>.............................] - ETA: 0s - loss: 0.2037 - accuracy: 0.9219\n",
            "Epoch 197: saving model to model/keypoint_classifier/keypoint_classifier.hdf5\n",
            "25/25 [==============================] - 0s 2ms/step - loss: 0.1937 - accuracy: 0.9309 - val_loss: 0.0282 - val_accuracy: 0.9990\n",
            "Epoch 198/1000\n",
            " 1/25 [>.............................] - ETA: 0s - loss: 0.1747 - accuracy: 0.9219\n",
            "Epoch 198: saving model to model/keypoint_classifier/keypoint_classifier.hdf5\n",
            "25/25 [==============================] - 0s 2ms/step - loss: 0.1793 - accuracy: 0.9306 - val_loss: 0.0249 - val_accuracy: 0.9990\n",
            "Epoch 199/1000\n",
            " 1/25 [>.............................] - ETA: 0s - loss: 0.1954 - accuracy: 0.9297\n",
            "Epoch 199: saving model to model/keypoint_classifier/keypoint_classifier.hdf5\n",
            "25/25 [==============================] - 0s 2ms/step - loss: 0.1863 - accuracy: 0.9299 - val_loss: 0.0257 - val_accuracy: 0.9990\n",
            "Epoch 200/1000\n",
            " 1/25 [>.............................] - ETA: 0s - loss: 0.1934 - accuracy: 0.9375\n",
            "Epoch 200: saving model to model/keypoint_classifier/keypoint_classifier.hdf5\n",
            "25/25 [==============================] - 0s 2ms/step - loss: 0.2026 - accuracy: 0.9190 - val_loss: 0.0274 - val_accuracy: 0.9990\n",
            "Epoch 201/1000\n",
            " 1/25 [>.............................] - ETA: 0s - loss: 0.2293 - accuracy: 0.9453\n",
            "Epoch 201: saving model to model/keypoint_classifier/keypoint_classifier.hdf5\n",
            "25/25 [==============================] - 0s 2ms/step - loss: 0.1865 - accuracy: 0.9351 - val_loss: 0.0267 - val_accuracy: 0.9990\n",
            "Epoch 202/1000\n",
            " 1/25 [>.............................] - ETA: 0s - loss: 0.1415 - accuracy: 0.9297\n",
            "Epoch 202: saving model to model/keypoint_classifier/keypoint_classifier.hdf5\n",
            "25/25 [==============================] - 0s 2ms/step - loss: 0.1960 - accuracy: 0.9277 - val_loss: 0.0276 - val_accuracy: 0.9990\n",
            "Epoch 203/1000\n",
            " 1/25 [>.............................] - ETA: 0s - loss: 0.1554 - accuracy: 0.9531\n",
            "Epoch 203: saving model to model/keypoint_classifier/keypoint_classifier.hdf5\n",
            "25/25 [==============================] - 0s 2ms/step - loss: 0.1868 - accuracy: 0.9264 - val_loss: 0.0258 - val_accuracy: 0.9990\n",
            "Epoch 204/1000\n",
            " 1/25 [>.............................] - ETA: 0s - loss: 0.1071 - accuracy: 0.9688\n",
            "Epoch 204: saving model to model/keypoint_classifier/keypoint_classifier.hdf5\n",
            "25/25 [==============================] - 0s 2ms/step - loss: 0.1906 - accuracy: 0.9248 - val_loss: 0.0254 - val_accuracy: 0.9990\n",
            "Epoch 205/1000\n",
            " 1/25 [>.............................] - ETA: 0s - loss: 0.1206 - accuracy: 0.9609\n",
            "Epoch 205: saving model to model/keypoint_classifier/keypoint_classifier.hdf5\n",
            "25/25 [==============================] - 0s 2ms/step - loss: 0.1883 - accuracy: 0.9287 - val_loss: 0.0247 - val_accuracy: 0.9990\n",
            "Epoch 206/1000\n",
            " 1/25 [>.............................] - ETA: 0s - loss: 0.2259 - accuracy: 0.9062\n",
            "Epoch 206: saving model to model/keypoint_classifier/keypoint_classifier.hdf5\n",
            "25/25 [==============================] - 0s 2ms/step - loss: 0.1740 - accuracy: 0.9344 - val_loss: 0.0257 - val_accuracy: 0.9990\n",
            "Epoch 207/1000\n",
            " 1/25 [>.............................] - ETA: 0s - loss: 0.1357 - accuracy: 0.9688\n",
            "Epoch 207: saving model to model/keypoint_classifier/keypoint_classifier.hdf5\n",
            "25/25 [==============================] - 0s 2ms/step - loss: 0.1910 - accuracy: 0.9226 - val_loss: 0.0265 - val_accuracy: 0.9990\n",
            "Epoch 208/1000\n",
            " 1/25 [>.............................] - ETA: 0s - loss: 0.2266 - accuracy: 0.9297\n",
            "Epoch 208: saving model to model/keypoint_classifier/keypoint_classifier.hdf5\n",
            "25/25 [==============================] - 0s 2ms/step - loss: 0.1982 - accuracy: 0.9271 - val_loss: 0.0289 - val_accuracy: 0.9990\n",
            "Epoch 208: early stopping\n"
          ]
        },
        {
          "data": {
            "text/plain": [
              "<keras.src.callbacks.History at 0x7f5060671550>"
            ]
          },
          "execution_count": 11,
          "metadata": {},
          "output_type": "execute_result"
        }
      ],
      "source": [
        "model.fit(\n",
        "    X_train,\n",
        "    y_train,\n",
        "    epochs=1000,\n",
        "    batch_size=128,\n",
        "    validation_data=(X_test, y_test),\n",
        "    callbacks=[cp_callback, es_callback]\n",
        ")"
      ]
    },
    {
      "cell_type": "code",
      "execution_count": 12,
      "metadata": {
        "colab": {
          "base_uri": "https://localhost:8080/"
        },
        "id": "pxvb2Y299hE3",
        "outputId": "59eb3185-2e37-4b9e-bc9d-ab1b8ac29b7f"
      },
      "outputs": [
        {
          "name": "stdout",
          "output_type": "stream",
          "text": [
            "9/9 [==============================] - 0s 967us/step - loss: 0.0289 - accuracy: 0.9990\n"
          ]
        }
      ],
      "source": [
        "# Model evaluation\n",
        "val_loss, val_acc = model.evaluate(X_test, y_test, batch_size=128)"
      ]
    },
    {
      "cell_type": "code",
      "execution_count": 13,
      "metadata": {
        "id": "RBkmDeUW9hE4"
      },
      "outputs": [],
      "source": [
        "# Loading the saved model\n",
        "model = tf.keras.models.load_model(model_save_path)"
      ]
    },
    {
      "cell_type": "code",
      "execution_count": 14,
      "metadata": {
        "colab": {
          "base_uri": "https://localhost:8080/"
        },
        "id": "tFz9Tb0I9hE4",
        "outputId": "1c3b3528-54ae-4ee2-ab04-77429211cbef"
      },
      "outputs": [
        {
          "name": "stdout",
          "output_type": "stream",
          "text": [
            "1/1 [==============================] - 0s 45ms/step\n",
            "[9.5579278e-01 1.5308190e-09 4.4107508e-02 9.9541605e-05 5.7757333e-08]\n",
            "0\n"
          ]
        }
      ],
      "source": [
        "# Inference test\n",
        "predict_result = model.predict(np.array([X_test[0]]))\n",
        "print(np.squeeze(predict_result))\n",
        "print(np.argmax(np.squeeze(predict_result)))"
      ]
    },
    {
      "cell_type": "markdown",
      "metadata": {
        "id": "S3U4yNWx9hE4"
      },
      "source": [
        "# Confusion matrix"
      ]
    },
    {
      "cell_type": "code",
      "execution_count": 15,
      "metadata": {
        "colab": {
          "base_uri": "https://localhost:8080/",
          "height": 582
        },
        "id": "AP1V6SCk9hE5",
        "outputId": "08e41a80-7a4a-4619-8125-ecc371368d19"
      },
      "outputs": [
        {
          "name": "stdout",
          "output_type": "stream",
          "text": [
            "33/33 [==============================] - 0s 584us/step\n"
          ]
        },
        {
          "data": {
            "image/png": "[encoded data removed]",
            "text/plain": [
              "<Figure size 700x600 with 2 Axes>"
            ]
          },
          "metadata": {},
          "output_type": "display_data"
        },
        {
          "name": "stdout",
          "output_type": "stream",
          "text": [
            "Classification Report\n",
            "              precision    recall  f1-score   support\n",
            "\n",
            "           0       1.00      1.00      1.00       412\n",
            "           1       1.00      1.00      1.00       197\n",
            "           2       0.99      1.00      1.00       155\n",
            "           3       1.00      1.00      1.00       126\n",
            "           4       1.00      1.00      1.00       148\n",
            "\n",
            "    accuracy                           1.00      1038\n",
            "   macro avg       1.00      1.00      1.00      1038\n",
            "weighted avg       1.00      1.00      1.00      1038\n",
            "\n"
          ]
        }
      ],
      "source": [
        "import pandas as pd\n",
        "import seaborn as sns\n",
        "import matplotlib.pyplot as plt\n",
        "from sklearn.metrics import confusion_matrix, classification_report\n",
        "\n",
        "def print_confusion_matrix(y_true, y_pred, report=True):\n",
        "    labels = sorted(list(set(y_true)))\n",
        "    cmx_data = confusion_matrix(y_true, y_pred, labels=labels)\n",
        "    \n",
        "    df_cmx = pd.DataFrame(cmx_data, index=labels, columns=labels)\n",
        " \n",
        "    fig, ax = plt.subplots(figsize=(7, 6))\n",
        "    sns.heatmap(df_cmx, annot=True, fmt='g' ,square=False)\n",
        "    ax.set_ylim(len(set(y_true)), 0)\n",
        "    plt.show()\n",
        "    \n",
        "    if report:\n",
        "        print('Classification Report')\n",
        "        print(classification_report(y_test, y_pred))\n",
        "\n",
        "Y_pred = model.predict(X_test)\n",
        "y_pred = np.argmax(Y_pred, axis=1)\n",
        "\n",
        "print_confusion_matrix(y_test, y_pred)"
      ]
    },
    {
      "cell_type": "markdown",
      "metadata": {
        "id": "FNP6aqzc9hE5"
      },
      "source": [
        "# Convert to model for Tensorflow-Lite"
      ]
    },
    {
      "cell_type": "code",
      "execution_count": 16,
      "metadata": {
        "id": "ODjnYyld9hE6"
      },
      "outputs": [
        {
          "name": "stderr",
          "output_type": "stream",
          "text": [
            "/mnt/f/Coding/TrainHandRecognition/py311/lib/python3.11/site-packages/keras/src/engine/training.py:3000: UserWarning: You are saving your model as an HDF5 file via `model.save()`. This file format is considered legacy. We recommend using instead the native Keras format, e.g. `model.save('my_model.keras')`.\n",
            "  saving_api.save_model(\n"
          ]
        }
      ],
      "source": [
        "# Save as a model dedicated to inference\n",
        "model.save(model_save_path, include_optimizer=False)"
      ]
    },
    {
      "cell_type": "code",
      "execution_count": 17,
      "metadata": {
        "colab": {
          "base_uri": "https://localhost:8080/"
        },
        "id": "zRfuK8Y59hE6",
        "outputId": "a4ca585c-b5d5-4244-8291-8674063209bb"
      },
      "outputs": [
        {
          "name": "stdout",
          "output_type": "stream",
          "text": [
            "INFO:tensorflow:Assets written to: /tmp/tmpe5wvm6cr/assets\n"
          ]
        },
        {
          "name": "stderr",
          "output_type": "stream",
          "text": [
            "INFO:tensorflow:Assets written to: /tmp/tmpe5wvm6cr/assets\n",
            "2023-09-17 10:55:18.888431: W tensorflow/compiler/mlir/lite/python/tf_tfl_flatbuffer_helpers.cc:364] Ignored output_format.\n",
            "2023-09-17 10:55:18.888475: W tensorflow/compiler/mlir/lite/python/tf_tfl_flatbuffer_helpers.cc:367] Ignored drop_control_dependency.\n",
            "2023-09-17 10:55:18.889222: I tensorflow/cc/saved_model/reader.cc:45] Reading SavedModel from: /tmp/tmpe5wvm6cr\n",
            "2023-09-17 10:55:18.889759: I tensorflow/cc/saved_model/reader.cc:91] Reading meta graph with tags { serve }\n",
            "2023-09-17 10:55:18.889768: I tensorflow/cc/saved_model/reader.cc:132] Reading SavedModel debug info (if present) from: /tmp/tmpe5wvm6cr\n",
            "2023-09-17 10:55:18.892757: I tensorflow/compiler/mlir/mlir_graph_optimization_pass.cc:375] MLIR V1 optimization pass is not enabled\n",
            "2023-09-17 10:55:18.893390: I tensorflow/cc/saved_model/loader.cc:231] Restoring SavedModel bundle.\n",
            "2023-09-17 10:55:18.920074: I tensorflow/cc/saved_model/loader.cc:215] Running initialization op on SavedModel bundle at path: /tmp/tmpe5wvm6cr\n",
            "2023-09-17 10:55:18.926438: I tensorflow/cc/saved_model/loader.cc:314] SavedModel load for tags { serve }; Status: success: OK. Took 37219 microseconds.\n",
            "2023-09-17 10:55:18.956576: I tensorflow/compiler/mlir/tensorflow/utils/dump_mlir_util.cc:255] disabling MLIR crash reproducer, set env var `MLIR_CRASH_REPRODUCER_DIRECTORY` to enable.\n"
          ]
        },
        {
          "data": {
            "text/plain": [
              "6588"
            ]
          },
          "execution_count": 17,
          "metadata": {},
          "output_type": "execute_result"
        }
      ],
      "source": [
        "# Transform model (quantization)\n",
        "\n",
        "converter = tf.lite.TFLiteConverter.from_keras_model(model)\n",
        "converter.optimizations = [tf.lite.Optimize.DEFAULT]\n",
        "tflite_quantized_model = converter.convert()\n",
        "\n",
        "open(tflite_save_path, 'wb').write(tflite_quantized_model)"
      ]
    },
    {
      "cell_type": "markdown",
      "metadata": {
        "id": "CHBPBXdx9hE6"
      },
      "source": [
        "# Inference test"
      ]
    },
    {
      "cell_type": "code",
      "execution_count": 18,
      "metadata": {
        "id": "mGAzLocO9hE7"
      },
      "outputs": [
        {
          "name": "stderr",
          "output_type": "stream",
          "text": [
            "INFO: Created TensorFlow Lite XNNPACK delegate for CPU.\n"
          ]
        }
      ],
      "source": [
        "interpreter = tf.lite.Interpreter(model_path=tflite_save_path)\n",
        "interpreter.allocate_tensors()"
      ]
    },
    {
      "cell_type": "code",
      "execution_count": 19,
      "metadata": {
        "id": "oQuDK8YS9hE7"
      },
      "outputs": [],
      "source": [
        "# Get I / O tensor\n",
        "input_details = interpreter.get_input_details()\n",
        "output_details = interpreter.get_output_details()"
      ]
    },
    {
      "cell_type": "code",
      "execution_count": 20,
      "metadata": {
        "id": "2_ixAf_l9hE7"
      },
      "outputs": [],
      "source": [
        "interpreter.set_tensor(input_details[0]['index'], np.array([X_test[0]]))"
      ]
    },
    {
      "cell_type": "code",
      "execution_count": 21,
      "metadata": {
        "colab": {
          "base_uri": "https://localhost:8080/"
        },
        "id": "s4FoAnuc9hE7",
        "outputId": "91f18257-8d8b-4ef3-c558-e9b5f94fabbf",
        "scrolled": true
      },
      "outputs": [
        {
          "name": "stdout",
          "output_type": "stream",
          "text": [
            "CPU times: user 121 µs, sys: 28 µs, total: 149 µs\n",
            "Wall time: 126 µs\n"
          ]
        }
      ],
      "source": [
        "%%time\n",
        "# Inference implementation\n",
        "interpreter.invoke()\n",
        "tflite_results = interpreter.get_tensor(output_details[0]['index'])"
      ]
    },
    {
      "cell_type": "code",
      "execution_count": 22,
      "metadata": {
        "colab": {
          "base_uri": "https://localhost:8080/"
        },
        "id": "vONjp19J9hE8",
        "outputId": "77205e24-fd00-42c4-f7b6-e06e527c2cba"
      },
      "outputs": [
        {
          "name": "stdout",
          "output_type": "stream",
          "text": [
            "[9.5579267e-01 1.5308158e-09 4.4107582e-02 9.9541590e-05 5.7757433e-08]\n",
            "0\n"
          ]
        }
      ],
      "source": [
        "print(np.squeeze(tflite_results))\n",
        "print(np.argmax(np.squeeze(tflite_results)))"
      ]
    }
  ],
  "metadata": {
    "accelerator": "GPU",
    "colab": {
      "collapsed_sections": [],
      "name": "keypoint_classification_EN.ipynb",
      "provenance": [],
      "toc_visible": true
    },
    "kernelspec": {
      "display_name": "Python 3",
      "language": "python",
      "name": "python3"
    },
    "language_info": {
      "codemirror_mode": {
        "name": "ipython",
        "version": 3
      },
      "file_extension": ".py",
      "mimetype": "text/x-python",
      "name": "python",
      "nbconvert_exporter": "python",
      "pygments_lexer": "ipython3",
      "version": "3.11.5"
    }
  },
  "nbformat": 4,
  "nbformat_minor": 0
}
